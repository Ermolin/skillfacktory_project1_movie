{
 "cells": [
  {
   "cell_type": "code",
   "execution_count": 1,
   "metadata": {
    "_cell_guid": "b1076dfc-b9ad-4769-8c92-a6c4dae69d19",
    "_uuid": "8f2839f25d086af736a60e9eeb907d3b93b6e0e5",
    "colab": {},
    "colab_type": "code",
    "id": "U2D2gTdJVp90"
   },
   "outputs": [],
   "source": [
    "import numpy as np\n",
    "import pandas as pd\n",
    "import seaborn as sns\n",
    "import matplotlib.pyplot as plt\n",
    "from collections import Counter"
   ]
  },
  {
   "cell_type": "code",
   "execution_count": 4,
   "metadata": {
    "_cell_guid": "79c7e3d0-c299-4dcb-8224-4455121ee9b0",
    "_uuid": "d629ff2d2480ee46fbb7e2d37f6b5fab8052498a",
    "colab": {},
    "colab_type": "code",
    "id": "oyGfxL3eVp9-"
   },
   "outputs": [
    {
     "data": {
      "text/html": [
       "<div>\n",
       "<style scoped>\n",
       "    .dataframe tbody tr th:only-of-type {\n",
       "        vertical-align: middle;\n",
       "    }\n",
       "\n",
       "    .dataframe tbody tr th {\n",
       "        vertical-align: top;\n",
       "    }\n",
       "\n",
       "    .dataframe thead th {\n",
       "        text-align: right;\n",
       "    }\n",
       "</style>\n",
       "<table border=\"1\" class=\"dataframe\">\n",
       "  <thead>\n",
       "    <tr style=\"text-align: right;\">\n",
       "      <th></th>\n",
       "      <th>imdb_id</th>\n",
       "      <th>budget</th>\n",
       "      <th>revenue</th>\n",
       "      <th>original_title</th>\n",
       "      <th>cast</th>\n",
       "      <th>director</th>\n",
       "      <th>tagline</th>\n",
       "      <th>overview</th>\n",
       "      <th>runtime</th>\n",
       "      <th>genres</th>\n",
       "      <th>production_companies</th>\n",
       "      <th>release_date</th>\n",
       "      <th>vote_average</th>\n",
       "      <th>release_year</th>\n",
       "    </tr>\n",
       "  </thead>\n",
       "  <tbody>\n",
       "    <tr>\n",
       "      <th>899</th>\n",
       "      <td>tt0274558</td>\n",
       "      <td>25000000</td>\n",
       "      <td>108846072</td>\n",
       "      <td>The Hours</td>\n",
       "      <td>Nicole Kidman|Julianne Moore|Meryl Streep|Step...</td>\n",
       "      <td>Stephen Daldry</td>\n",
       "      <td>The time to hide is over. The time to regret i...</td>\n",
       "      <td>\"The Hours\" is the story of three women search...</td>\n",
       "      <td>114</td>\n",
       "      <td>Drama</td>\n",
       "      <td>Paramount Pictures|Miramax Films|Scott Rudin P...</td>\n",
       "      <td>12/27/2002</td>\n",
       "      <td>6.7</td>\n",
       "      <td>2002</td>\n",
       "    </tr>\n",
       "    <tr>\n",
       "      <th>1784</th>\n",
       "      <td>tt0484740</td>\n",
       "      <td>45000000</td>\n",
       "      <td>4607608</td>\n",
       "      <td>Love in the Time of Cholera</td>\n",
       "      <td>Javier Bardem|Unax Ugalde|Benjamin Bratt|Catal...</td>\n",
       "      <td>Mike Newell</td>\n",
       "      <td>How long would you wait for love?</td>\n",
       "      <td>In Colombia just after the Great War, an old m...</td>\n",
       "      <td>139</td>\n",
       "      <td>Drama|Romance</td>\n",
       "      <td>New Line Cinema|Grosvenor Park Media Ltd.</td>\n",
       "      <td>10/4/2007</td>\n",
       "      <td>6.6</td>\n",
       "      <td>2007</td>\n",
       "    </tr>\n",
       "    <tr>\n",
       "      <th>308</th>\n",
       "      <td>tt1210042</td>\n",
       "      <td>17000000</td>\n",
       "      <td>29536299</td>\n",
       "      <td>Brooklyn's Finest</td>\n",
       "      <td>Richard Gere|Don Cheadle|Ethan Hawke|Wesley Sn...</td>\n",
       "      <td>Antoine Fuqua</td>\n",
       "      <td>This is War. This is Brooklyn.</td>\n",
       "      <td>Brooklyn's Finest takes place within the notor...</td>\n",
       "      <td>133</td>\n",
       "      <td>Crime|Drama|Thriller</td>\n",
       "      <td>Nu Image Films|Langley Productions|Thunder Roa...</td>\n",
       "      <td>1/16/2009</td>\n",
       "      <td>6.1</td>\n",
       "      <td>2009</td>\n",
       "    </tr>\n",
       "    <tr>\n",
       "      <th>993</th>\n",
       "      <td>tt1371111</td>\n",
       "      <td>102000000</td>\n",
       "      <td>130482868</td>\n",
       "      <td>Cloud Atlas</td>\n",
       "      <td>Tom Hanks|Halle Berry|Jim Broadbent|Hugo Weavi...</td>\n",
       "      <td>Lilly Wachowski|Lana Wachowski|Tom Tykwer</td>\n",
       "      <td>Everything is Connected</td>\n",
       "      <td>A set of six nested stories spanning time betw...</td>\n",
       "      <td>172</td>\n",
       "      <td>Drama|Science Fiction</td>\n",
       "      <td>Anarchos Productions|X-Filme Creative Pool|Asc...</td>\n",
       "      <td>10/26/2012</td>\n",
       "      <td>6.5</td>\n",
       "      <td>2012</td>\n",
       "    </tr>\n",
       "    <tr>\n",
       "      <th>1065</th>\n",
       "      <td>tt2023453</td>\n",
       "      <td>22000000</td>\n",
       "      <td>77112176</td>\n",
       "      <td>Diary of a Wimpy Kid: Dog Days</td>\n",
       "      <td>Devon Bostick|Steve Zahn|Peyton List|Rachael H...</td>\n",
       "      <td>David Bowers</td>\n",
       "      <td>School's Out for the summer</td>\n",
       "      <td>School is out and Greg is ready for the days o...</td>\n",
       "      <td>94</td>\n",
       "      <td>Comedy|Family</td>\n",
       "      <td>Fox 2000 Pictures</td>\n",
       "      <td>8/2/2012</td>\n",
       "      <td>5.9</td>\n",
       "      <td>2012</td>\n",
       "    </tr>\n",
       "    <tr>\n",
       "      <th>1188</th>\n",
       "      <td>tt1798709</td>\n",
       "      <td>23000000</td>\n",
       "      <td>47351251</td>\n",
       "      <td>Her</td>\n",
       "      <td>Joaquin Phoenix|Scarlett Johansson|Rooney Mara...</td>\n",
       "      <td>Spike Jonze</td>\n",
       "      <td>A Spike Jonze Love Story</td>\n",
       "      <td>In the not so distant future, Theodore, a lone...</td>\n",
       "      <td>126</td>\n",
       "      <td>Romance|Science Fiction|Drama</td>\n",
       "      <td>Annapurna Pictures</td>\n",
       "      <td>12/18/2013</td>\n",
       "      <td>7.8</td>\n",
       "      <td>2013</td>\n",
       "    </tr>\n",
       "    <tr>\n",
       "      <th>1661</th>\n",
       "      <td>tt0315824</td>\n",
       "      <td>50000000</td>\n",
       "      <td>6808550</td>\n",
       "      <td>The Big Bounce</td>\n",
       "      <td>Owen Wilson|Morgan Freeman|Gary Sinise|Sara Fo...</td>\n",
       "      <td>George Armitage</td>\n",
       "      <td>It's all in who you trust</td>\n",
       "      <td>A small-time con artist and a Hawaiian real es...</td>\n",
       "      <td>88</td>\n",
       "      <td>Comedy|Crime</td>\n",
       "      <td>Warner Bros. Pictures|Shangri-La Entertainment...</td>\n",
       "      <td>1/30/2004</td>\n",
       "      <td>4.9</td>\n",
       "      <td>2004</td>\n",
       "    </tr>\n",
       "    <tr>\n",
       "      <th>819</th>\n",
       "      <td>tt1033575</td>\n",
       "      <td>20000000</td>\n",
       "      <td>177243185</td>\n",
       "      <td>The Descendants</td>\n",
       "      <td>George Clooney|Shailene Woodley|Amara Miller|N...</td>\n",
       "      <td>Alexander Payne</td>\n",
       "      <td>The South Pacific ain't that terrific.</td>\n",
       "      <td>With his wife Elizabeth on life support after ...</td>\n",
       "      <td>115</td>\n",
       "      <td>Comedy|Drama</td>\n",
       "      <td>Fox Searchlight Pictures|Dune Entertainment|Ad...</td>\n",
       "      <td>9/9/2011</td>\n",
       "      <td>6.6</td>\n",
       "      <td>2011</td>\n",
       "    </tr>\n",
       "    <tr>\n",
       "      <th>883</th>\n",
       "      <td>tt0258000</td>\n",
       "      <td>48000000</td>\n",
       "      <td>196397415</td>\n",
       "      <td>Panic Room</td>\n",
       "      <td>Jodie Foster|Kristen Stewart|Forest Whitaker|D...</td>\n",
       "      <td>David Fincher</td>\n",
       "      <td>It was supposed to be the safest room in the h...</td>\n",
       "      <td>Trapped in their New York brownstone's panic r...</td>\n",
       "      <td>112</td>\n",
       "      <td>Crime|Drama|Thriller</td>\n",
       "      <td>Columbia Pictures Corporation|Hofflund/Polone|...</td>\n",
       "      <td>3/29/2002</td>\n",
       "      <td>6.4</td>\n",
       "      <td>2002</td>\n",
       "    </tr>\n",
       "    <tr>\n",
       "      <th>736</th>\n",
       "      <td>tt1499658</td>\n",
       "      <td>35000000</td>\n",
       "      <td>117000000</td>\n",
       "      <td>Horrible Bosses</td>\n",
       "      <td>Jennifer Aniston|Jason Bateman|Charlie Day|Jas...</td>\n",
       "      <td>Seth Gordon</td>\n",
       "      <td>Ever wish your boss was dead?</td>\n",
       "      <td>For Nick (Jason Bateman), Kurt (Jason Sudeikis...</td>\n",
       "      <td>98</td>\n",
       "      <td>Comedy|Crime</td>\n",
       "      <td>New Line Cinema|Rat Entertainment</td>\n",
       "      <td>7/8/2011</td>\n",
       "      <td>6.4</td>\n",
       "      <td>2011</td>\n",
       "    </tr>\n",
       "  </tbody>\n",
       "</table>\n",
       "</div>"
      ],
      "text/plain": [
       "        imdb_id     budget    revenue                  original_title  \\\n",
       "899   tt0274558   25000000  108846072                       The Hours   \n",
       "1784  tt0484740   45000000    4607608     Love in the Time of Cholera   \n",
       "308   tt1210042   17000000   29536299               Brooklyn's Finest   \n",
       "993   tt1371111  102000000  130482868                     Cloud Atlas   \n",
       "1065  tt2023453   22000000   77112176  Diary of a Wimpy Kid: Dog Days   \n",
       "1188  tt1798709   23000000   47351251                             Her   \n",
       "1661  tt0315824   50000000    6808550                  The Big Bounce   \n",
       "819   tt1033575   20000000  177243185                 The Descendants   \n",
       "883   tt0258000   48000000  196397415                      Panic Room   \n",
       "736   tt1499658   35000000  117000000                 Horrible Bosses   \n",
       "\n",
       "                                                   cast  \\\n",
       "899   Nicole Kidman|Julianne Moore|Meryl Streep|Step...   \n",
       "1784  Javier Bardem|Unax Ugalde|Benjamin Bratt|Catal...   \n",
       "308   Richard Gere|Don Cheadle|Ethan Hawke|Wesley Sn...   \n",
       "993   Tom Hanks|Halle Berry|Jim Broadbent|Hugo Weavi...   \n",
       "1065  Devon Bostick|Steve Zahn|Peyton List|Rachael H...   \n",
       "1188  Joaquin Phoenix|Scarlett Johansson|Rooney Mara...   \n",
       "1661  Owen Wilson|Morgan Freeman|Gary Sinise|Sara Fo...   \n",
       "819   George Clooney|Shailene Woodley|Amara Miller|N...   \n",
       "883   Jodie Foster|Kristen Stewart|Forest Whitaker|D...   \n",
       "736   Jennifer Aniston|Jason Bateman|Charlie Day|Jas...   \n",
       "\n",
       "                                       director  \\\n",
       "899                              Stephen Daldry   \n",
       "1784                                Mike Newell   \n",
       "308                               Antoine Fuqua   \n",
       "993   Lilly Wachowski|Lana Wachowski|Tom Tykwer   \n",
       "1065                               David Bowers   \n",
       "1188                                Spike Jonze   \n",
       "1661                            George Armitage   \n",
       "819                             Alexander Payne   \n",
       "883                               David Fincher   \n",
       "736                                 Seth Gordon   \n",
       "\n",
       "                                                tagline  \\\n",
       "899   The time to hide is over. The time to regret i...   \n",
       "1784                  How long would you wait for love?   \n",
       "308                      This is War. This is Brooklyn.   \n",
       "993                             Everything is Connected   \n",
       "1065                        School's Out for the summer   \n",
       "1188                           A Spike Jonze Love Story   \n",
       "1661                          It's all in who you trust   \n",
       "819              The South Pacific ain't that terrific.   \n",
       "883   It was supposed to be the safest room in the h...   \n",
       "736                       Ever wish your boss was dead?   \n",
       "\n",
       "                                               overview  runtime  \\\n",
       "899   \"The Hours\" is the story of three women search...      114   \n",
       "1784  In Colombia just after the Great War, an old m...      139   \n",
       "308   Brooklyn's Finest takes place within the notor...      133   \n",
       "993   A set of six nested stories spanning time betw...      172   \n",
       "1065  School is out and Greg is ready for the days o...       94   \n",
       "1188  In the not so distant future, Theodore, a lone...      126   \n",
       "1661  A small-time con artist and a Hawaiian real es...       88   \n",
       "819   With his wife Elizabeth on life support after ...      115   \n",
       "883   Trapped in their New York brownstone's panic r...      112   \n",
       "736   For Nick (Jason Bateman), Kurt (Jason Sudeikis...       98   \n",
       "\n",
       "                             genres  \\\n",
       "899                           Drama   \n",
       "1784                  Drama|Romance   \n",
       "308            Crime|Drama|Thriller   \n",
       "993           Drama|Science Fiction   \n",
       "1065                  Comedy|Family   \n",
       "1188  Romance|Science Fiction|Drama   \n",
       "1661                   Comedy|Crime   \n",
       "819                    Comedy|Drama   \n",
       "883            Crime|Drama|Thriller   \n",
       "736                    Comedy|Crime   \n",
       "\n",
       "                                   production_companies release_date  \\\n",
       "899   Paramount Pictures|Miramax Films|Scott Rudin P...   12/27/2002   \n",
       "1784          New Line Cinema|Grosvenor Park Media Ltd.    10/4/2007   \n",
       "308   Nu Image Films|Langley Productions|Thunder Roa...    1/16/2009   \n",
       "993   Anarchos Productions|X-Filme Creative Pool|Asc...   10/26/2012   \n",
       "1065                                  Fox 2000 Pictures     8/2/2012   \n",
       "1188                                 Annapurna Pictures   12/18/2013   \n",
       "1661  Warner Bros. Pictures|Shangri-La Entertainment...    1/30/2004   \n",
       "819   Fox Searchlight Pictures|Dune Entertainment|Ad...     9/9/2011   \n",
       "883   Columbia Pictures Corporation|Hofflund/Polone|...    3/29/2002   \n",
       "736                   New Line Cinema|Rat Entertainment     7/8/2011   \n",
       "\n",
       "      vote_average  release_year  \n",
       "899            6.7          2002  \n",
       "1784           6.6          2007  \n",
       "308            6.1          2009  \n",
       "993            6.5          2012  \n",
       "1065           5.9          2012  \n",
       "1188           7.8          2013  \n",
       "1661           4.9          2004  \n",
       "819            6.6          2011  \n",
       "883            6.4          2002  \n",
       "736            6.4          2011  "
      ]
     },
     "execution_count": 4,
     "metadata": {},
     "output_type": "execute_result"
    }
   ],
   "source": [
    "data = pd.read_csv('movie_bd_v5.csv')\n",
    "data.sample(10)"
   ]
  },
  {
   "cell_type": "code",
   "execution_count": 3,
   "metadata": {
    "colab": {},
    "colab_type": "code",
    "id": "CoYUnagMVp-C"
   },
   "outputs": [
    {
     "data": {
      "text/html": [
       "<div>\n",
       "<style scoped>\n",
       "    .dataframe tbody tr th:only-of-type {\n",
       "        vertical-align: middle;\n",
       "    }\n",
       "\n",
       "    .dataframe tbody tr th {\n",
       "        vertical-align: top;\n",
       "    }\n",
       "\n",
       "    .dataframe thead th {\n",
       "        text-align: right;\n",
       "    }\n",
       "</style>\n",
       "<table border=\"1\" class=\"dataframe\">\n",
       "  <thead>\n",
       "    <tr style=\"text-align: right;\">\n",
       "      <th></th>\n",
       "      <th>budget</th>\n",
       "      <th>revenue</th>\n",
       "      <th>runtime</th>\n",
       "      <th>vote_average</th>\n",
       "      <th>release_year</th>\n",
       "    </tr>\n",
       "  </thead>\n",
       "  <tbody>\n",
       "    <tr>\n",
       "      <th>count</th>\n",
       "      <td>1.889000e+03</td>\n",
       "      <td>1.889000e+03</td>\n",
       "      <td>1889.000000</td>\n",
       "      <td>1889.000000</td>\n",
       "      <td>1889.000000</td>\n",
       "    </tr>\n",
       "    <tr>\n",
       "      <th>mean</th>\n",
       "      <td>5.431083e+07</td>\n",
       "      <td>1.553653e+08</td>\n",
       "      <td>109.658549</td>\n",
       "      <td>6.140762</td>\n",
       "      <td>2007.860773</td>\n",
       "    </tr>\n",
       "    <tr>\n",
       "      <th>std</th>\n",
       "      <td>4.858721e+07</td>\n",
       "      <td>2.146698e+08</td>\n",
       "      <td>18.017041</td>\n",
       "      <td>0.764763</td>\n",
       "      <td>4.468841</td>\n",
       "    </tr>\n",
       "    <tr>\n",
       "      <th>min</th>\n",
       "      <td>5.000000e+06</td>\n",
       "      <td>2.033165e+06</td>\n",
       "      <td>63.000000</td>\n",
       "      <td>3.300000</td>\n",
       "      <td>2000.000000</td>\n",
       "    </tr>\n",
       "    <tr>\n",
       "      <th>25%</th>\n",
       "      <td>2.000000e+07</td>\n",
       "      <td>3.456058e+07</td>\n",
       "      <td>97.000000</td>\n",
       "      <td>5.600000</td>\n",
       "      <td>2004.000000</td>\n",
       "    </tr>\n",
       "    <tr>\n",
       "      <th>50%</th>\n",
       "      <td>3.800000e+07</td>\n",
       "      <td>8.361541e+07</td>\n",
       "      <td>107.000000</td>\n",
       "      <td>6.100000</td>\n",
       "      <td>2008.000000</td>\n",
       "    </tr>\n",
       "    <tr>\n",
       "      <th>75%</th>\n",
       "      <td>7.200000e+07</td>\n",
       "      <td>1.782626e+08</td>\n",
       "      <td>120.000000</td>\n",
       "      <td>6.600000</td>\n",
       "      <td>2012.000000</td>\n",
       "    </tr>\n",
       "    <tr>\n",
       "      <th>max</th>\n",
       "      <td>3.800000e+08</td>\n",
       "      <td>2.781506e+09</td>\n",
       "      <td>214.000000</td>\n",
       "      <td>8.100000</td>\n",
       "      <td>2015.000000</td>\n",
       "    </tr>\n",
       "  </tbody>\n",
       "</table>\n",
       "</div>"
      ],
      "text/plain": [
       "             budget       revenue      runtime  vote_average  release_year\n",
       "count  1.889000e+03  1.889000e+03  1889.000000   1889.000000   1889.000000\n",
       "mean   5.431083e+07  1.553653e+08   109.658549      6.140762   2007.860773\n",
       "std    4.858721e+07  2.146698e+08    18.017041      0.764763      4.468841\n",
       "min    5.000000e+06  2.033165e+06    63.000000      3.300000   2000.000000\n",
       "25%    2.000000e+07  3.456058e+07    97.000000      5.600000   2004.000000\n",
       "50%    3.800000e+07  8.361541e+07   107.000000      6.100000   2008.000000\n",
       "75%    7.200000e+07  1.782626e+08   120.000000      6.600000   2012.000000\n",
       "max    3.800000e+08  2.781506e+09   214.000000      8.100000   2015.000000"
      ]
     },
     "execution_count": 3,
     "metadata": {},
     "output_type": "execute_result"
    }
   ],
   "source": [
    "data.describe()"
   ]
  },
  {
   "cell_type": "markdown",
   "metadata": {
    "colab_type": "text",
    "id": "DTIt7ezGVp-G"
   },
   "source": [
    "# Предобработка"
   ]
  },
  {
   "cell_type": "code",
   "execution_count": 67,
   "metadata": {
    "colab": {},
    "colab_type": "code",
    "id": "jNb40DwKVp-H"
   },
   "outputs": [],
   "source": [
    "answers = {} # создадим словарь для ответов\n",
    "\n",
    "# тут другие ваши предобработки колонок например:\n",
    "data['namelenght'] = data.original_title.apply(lambda x: len(x))\n",
    "data['month'] = data.release_date.apply(lambda x: x[0: x.index('/')])\n",
    "\n",
    "#  (profit = revenue - budget)\n",
    "def f(x):\n",
    "    summ = x.revenue - x.budget\n",
    "    return summ\n",
    "\n",
    "data['profit']= data.apply(f, axis = 1)"
   ]
  },
  {
   "cell_type": "code",
   "execution_count": null,
   "metadata": {},
   "outputs": [],
   "source": [
    "#  выдает словарь с количеством вхождений каждого эллемента списка\n",
    "def counts(data):\n",
    "    dic ={}\n",
    "    number = data.size\n",
    "    for i in range(number):\n",
    "        a = data.iloc[i].split('|')\n",
    "        for j in range(len(a)):\n",
    "            if a[j] not in dic :\n",
    "                dic[a[j]] = 1\n",
    "            else:\n",
    "                dic[a[j]] +=1\n",
    "    return dic"
   ]
  },
  {
   "cell_type": "code",
   "execution_count": 112,
   "metadata": {},
   "outputs": [],
   "source": [
    "# суммирует в df по столбцу s1  суммы из s2\n",
    "def summ(df, s1, s2):\n",
    "    dic = {}\n",
    "    number = df[s1].size\n",
    "    for i in range(number):\n",
    "        if df[s1].iloc[i] not in dic:\n",
    "            dic[df[s1].iloc[i]] = df[s2].iloc[i]\n",
    "        else:\n",
    "            dic[df[s1].iloc[i]] += df[s2].iloc[i]\n",
    "    return dic"
   ]
  },
  {
   "cell_type": "code",
   "execution_count": 147,
   "metadata": {},
   "outputs": [],
   "source": [
    "# суммирует в df по каждому эллементу s1 суммы s2\n",
    "def el_sum(df, s1, s2):\n",
    "    dic ={}\n",
    "    number = df[s1].size\n",
    "    for i in range(number):\n",
    "        a = df[s1].iloc[i].split('|')\n",
    "        for j in range(len(a)):\n",
    "            if a[j] not in dic:\n",
    "                dic[a[j]] = df[s2].iloc[i]\n",
    "            else:\n",
    "                dic[a[j]] += df[s2].iloc[i]\n",
    "    return dic"
   ]
  },
  {
   "cell_type": "code",
   "execution_count": 208,
   "metadata": {},
   "outputs": [],
   "source": [
    "# среднее в df значение s2 по кажому эллементу s1\n",
    "\n",
    "def df_el1_el2(df, s1, s2):\n",
    "    dlen = {}\n",
    "    dcount = {}\n",
    "    dmean = {}\n",
    "    number = df[s1].size\n",
    "    for i in range(number):\n",
    "        a = df[s1].iloc[i].split('|')\n",
    "        for j in range(len(a)):\n",
    "            if a[j] not in dic:\n",
    "                dlen[a[j]] = df[s2].iloc[i]\n",
    "                dcount[a[j]] = 1\n",
    "            else:\n",
    "                dlen[a[j]] += df[s2].iloc[i]\n",
    "                dcount[a[j]] += 1\n",
    "    for key in dlen:\n",
    "        dmean[key] = dlen[key] / dcount[key]\n",
    "    return dmean"
   ]
  },
  {
   "cell_type": "code",
   "execution_count": 223,
   "metadata": {},
   "outputs": [],
   "source": [
    "# количество эл-ов в s2 для каждого эл-та s1 в df\n",
    "\n",
    "def count_s2_numbers(df, s1, s2):\n",
    "    dlen = {}\n",
    "    dfilms = {}\n",
    "    dmean = {}\n",
    "    for i in range(df[s1].size):\n",
    "        a = df[s1].iloc[i].split('|')\n",
    "        w = df[s2].iloc[i].split(\" \")\n",
    "        for j in range(len(a)):\n",
    "            if a[j] not in dlen :\n",
    "                dlen[a[j]] = len(w)\n",
    "                dfilms[a[j]] = 1\n",
    "            else:\n",
    "                dlen[a[j]] += len(w)\n",
    "                dfilms[a[j]] += 1\n",
    "    for key in dlen:\n",
    "        dmean[key] = dlen[key] / dfilms[key]\n",
    "    return dmean"
   ]
  },
  {
   "cell_type": "code",
   "execution_count": 345,
   "metadata": {},
   "outputs": [],
   "source": [
    "# самая часто встречающаяся пара значений в df  серии  ser, разделитель '|'\n",
    "def dic_with_pairs(df, ser):\n",
    "    dic = {}\n",
    "    wmax = 0\n",
    "    pair = 0\n",
    "    answ\n",
    "    number = df[ser].size\n",
    "    for i in range(number):\n",
    "        a = df[ser].iloc[i].split('|')\n",
    "        for j in range(len(a)):\n",
    "            for r in range(len(a)):\n",
    "                if j < r and (a[j] +a[r] not in dic):\n",
    "                    dic[a[j] + a[r]] = 1\n",
    "                elif j < r and (a[j] +a[r] in dic):\n",
    "                    dic[a[j] +a[r]] += 1\n",
    "\n",
    "    for key, value in dic.items():\n",
    "        if value > wmax:\n",
    "            pair = key \n",
    "            wmax = value\n",
    "        \n",
    "    return pair"
   ]
  },
  {
   "cell_type": "markdown",
   "metadata": {
    "colab_type": "text",
    "id": "YxZaH-nPVp-L"
   },
   "source": [
    "# 1. У какого фильма из списка самый большой бюджет?"
   ]
  },
  {
   "cell_type": "markdown",
   "metadata": {
    "colab_type": "text",
    "id": "Nd-G5gX6Vp-M"
   },
   "source": [
    "Использовать варианты ответов в коде решения запрещено.    \n",
    "Вы думаете и в жизни у вас будут варианты ответов?)"
   ]
  },
  {
   "cell_type": "code",
   "execution_count": 0,
   "metadata": {
    "colab": {},
    "colab_type": "code",
    "id": "uVnXAY5RVp-O"
   },
   "outputs": [],
   "source": [
    "# в словарь вставляем номер вопроса и ваш ответ на него\n",
    "# Пример: \n",
    "answers['1'] = '2. Spider-Man 3 (tt0413300)'\n",
    "# запишите свой вариант ответа\n",
    "answers['1'] = '...'\n",
    "# если ответили верно, можете добавить комментарий со значком \"+\""
   ]
  },
  {
   "cell_type": "code",
   "execution_count": 48,
   "metadata": {
    "colab": {},
    "colab_type": "code",
    "id": "dZwb3m28Vp-S"
   },
   "outputs": [
    {
     "data": {
      "text/plain": [
       "{'1': 723    Pirates of the Caribbean: On Stranger Tides\n",
       " Name: original_title, dtype: object}"
      ]
     },
     "execution_count": 48,
     "metadata": {},
     "output_type": "execute_result"
    }
   ],
   "source": [
    "film_list = [\"The Dark Knight Rises\",\"Spider-Man 3\",\"Avengers: Age of Ultron\",\"The Warrior's Way\",'Pirates of the Caribbean: On Stranger Tides']\n",
    "data2= pd.DataFrame()\n",
    "for i in range(len(film_list)):\n",
    "    data2= pd.concat([data2,(data[data.original_title == film_list[i]])])\n",
    "sorted_data = data2.sort_values(by='budget')\n",
    "\n",
    "answ = sorted_data[sorted_data.budget == sorted_data.budget.max()]\n",
    "answers['1'] = answ.original_title\n",
    "answers"
   ]
  },
  {
   "cell_type": "markdown",
   "metadata": {
    "colab_type": "text",
    "id": "K7L3nbRXVp-X"
   },
   "source": [
    "ВАРИАНТ 2"
   ]
  },
  {
   "cell_type": "code",
   "execution_count": 0,
   "metadata": {
    "colab": {},
    "colab_type": "code",
    "id": "OGaoQI7rVp-X"
   },
   "outputs": [],
   "source": [
    "# можно добавлять разные варианты решения"
   ]
  },
  {
   "cell_type": "markdown",
   "metadata": {
    "colab_type": "text",
    "id": "FNRbbI3vVp-c"
   },
   "source": [
    "# 2. Какой из фильмов самый длительный (в минутах)?"
   ]
  },
  {
   "cell_type": "code",
   "execution_count": 0,
   "metadata": {
    "colab": {},
    "colab_type": "code",
    "id": "vHAoEXNTVp-d"
   },
   "outputs": [],
   "source": [
    "# думаю логику работы с этим словарем вы уже поняли, \n",
    "# по этому не буду больше его дублировать\n",
    "answers['2'] = '...'"
   ]
  },
  {
   "cell_type": "code",
   "execution_count": 54,
   "metadata": {
    "colab": {},
    "colab_type": "code",
    "id": "ot-VX2XrVp-g"
   },
   "outputs": [
    {
     "data": {
      "text/plain": [
       "{'1': 723    Pirates of the Caribbean: On Stranger Tides\n",
       " Name: original_title, dtype: object,\n",
       " '2': 1157    Gods and Generals\n",
       " Name: original_title, dtype: object}"
      ]
     },
     "execution_count": 54,
     "metadata": {},
     "output_type": "execute_result"
    }
   ],
   "source": [
    "film_list = ['The Lord of the Rings: The Return of the King','Gods and Generals','King Kong','Pearl Harbor','Alexander']\n",
    "data2= pd.DataFrame()\n",
    "for i in range(len(film_list)):\n",
    "    data2= pd.concat([data2,(data[data.original_title == film_list[i]])])\n",
    "sorted_data = data2.sort_values(by='runtime')\n",
    "\n",
    "answ = sorted_data[sorted_data.runtime == sorted_data.runtime.max()]\n",
    "answers['2'] = answ.original_title\n",
    "answers"
   ]
  },
  {
   "cell_type": "code",
   "execution_count": null,
   "metadata": {},
   "outputs": [],
   "source": []
  },
  {
   "cell_type": "markdown",
   "metadata": {
    "colab_type": "text",
    "id": "bapLlpW8Vp-k"
   },
   "source": [
    "# 3. Какой из фильмов самый короткий (в минутах)?\n",
    "\n",
    "\n",
    "\n"
   ]
  },
  {
   "cell_type": "code",
   "execution_count": 57,
   "metadata": {
    "colab": {},
    "colab_type": "code",
    "id": "YBxaSHuAVp-l"
   },
   "outputs": [],
   "source": [
    "film_list = ['Home on the Range','The Jungle Book 2','Winnie the Pooh','Corpse Bride','Hoodwinked!']\n",
    "data2= pd.DataFrame()\n",
    "for i in range(len(film_list)):\n",
    "    data2= pd.concat([data2,(data[data.original_title == film_list[i]])])\n",
    "sorted_data = data2.sort_values(by='runtime')\n",
    "answ = sorted_data[sorted_data.runtime == sorted_data.runtime.min()]\n",
    "answers['3'] = answ.original_title"
   ]
  },
  {
   "cell_type": "code",
   "execution_count": 58,
   "metadata": {},
   "outputs": [
    {
     "data": {
      "text/plain": [
       "{'1': 723    Pirates of the Caribbean: On Stranger Tides\n",
       " Name: original_title, dtype: object,\n",
       " '2': 1157    Gods and Generals\n",
       " Name: original_title, dtype: object,\n",
       " '3': 768    Winnie the Pooh\n",
       " Name: original_title, dtype: object}"
      ]
     },
     "execution_count": 58,
     "metadata": {},
     "output_type": "execute_result"
    }
   ],
   "source": [
    "answers"
   ]
  },
  {
   "cell_type": "markdown",
   "metadata": {
    "colab_type": "text",
    "id": "TfQbxbfNVp-p"
   },
   "source": [
    "# 4. Какова средняя длительность фильмов?\n"
   ]
  },
  {
   "cell_type": "code",
   "execution_count": 59,
   "metadata": {
    "colab": {},
    "colab_type": "code",
    "id": "5K6dKZYVVp-q"
   },
   "outputs": [
    {
     "data": {
      "text/html": [
       "<div>\n",
       "<style scoped>\n",
       "    .dataframe tbody tr th:only-of-type {\n",
       "        vertical-align: middle;\n",
       "    }\n",
       "\n",
       "    .dataframe tbody tr th {\n",
       "        vertical-align: top;\n",
       "    }\n",
       "\n",
       "    .dataframe thead th {\n",
       "        text-align: right;\n",
       "    }\n",
       "</style>\n",
       "<table border=\"1\" class=\"dataframe\">\n",
       "  <thead>\n",
       "    <tr style=\"text-align: right;\">\n",
       "      <th></th>\n",
       "      <th>budget</th>\n",
       "      <th>revenue</th>\n",
       "      <th>runtime</th>\n",
       "      <th>vote_average</th>\n",
       "      <th>release_year</th>\n",
       "    </tr>\n",
       "  </thead>\n",
       "  <tbody>\n",
       "    <tr>\n",
       "      <th>count</th>\n",
       "      <td>1.889000e+03</td>\n",
       "      <td>1.889000e+03</td>\n",
       "      <td>1889.000000</td>\n",
       "      <td>1889.000000</td>\n",
       "      <td>1889.000000</td>\n",
       "    </tr>\n",
       "    <tr>\n",
       "      <th>mean</th>\n",
       "      <td>5.431083e+07</td>\n",
       "      <td>1.553653e+08</td>\n",
       "      <td>109.658549</td>\n",
       "      <td>6.140762</td>\n",
       "      <td>2007.860773</td>\n",
       "    </tr>\n",
       "    <tr>\n",
       "      <th>std</th>\n",
       "      <td>4.858721e+07</td>\n",
       "      <td>2.146698e+08</td>\n",
       "      <td>18.017041</td>\n",
       "      <td>0.764763</td>\n",
       "      <td>4.468841</td>\n",
       "    </tr>\n",
       "    <tr>\n",
       "      <th>min</th>\n",
       "      <td>5.000000e+06</td>\n",
       "      <td>2.033165e+06</td>\n",
       "      <td>63.000000</td>\n",
       "      <td>3.300000</td>\n",
       "      <td>2000.000000</td>\n",
       "    </tr>\n",
       "    <tr>\n",
       "      <th>25%</th>\n",
       "      <td>2.000000e+07</td>\n",
       "      <td>3.456058e+07</td>\n",
       "      <td>97.000000</td>\n",
       "      <td>5.600000</td>\n",
       "      <td>2004.000000</td>\n",
       "    </tr>\n",
       "    <tr>\n",
       "      <th>50%</th>\n",
       "      <td>3.800000e+07</td>\n",
       "      <td>8.361541e+07</td>\n",
       "      <td>107.000000</td>\n",
       "      <td>6.100000</td>\n",
       "      <td>2008.000000</td>\n",
       "    </tr>\n",
       "    <tr>\n",
       "      <th>75%</th>\n",
       "      <td>7.200000e+07</td>\n",
       "      <td>1.782626e+08</td>\n",
       "      <td>120.000000</td>\n",
       "      <td>6.600000</td>\n",
       "      <td>2012.000000</td>\n",
       "    </tr>\n",
       "    <tr>\n",
       "      <th>max</th>\n",
       "      <td>3.800000e+08</td>\n",
       "      <td>2.781506e+09</td>\n",
       "      <td>214.000000</td>\n",
       "      <td>8.100000</td>\n",
       "      <td>2015.000000</td>\n",
       "    </tr>\n",
       "  </tbody>\n",
       "</table>\n",
       "</div>"
      ],
      "text/plain": [
       "             budget       revenue      runtime  vote_average  release_year\n",
       "count  1.889000e+03  1.889000e+03  1889.000000   1889.000000   1889.000000\n",
       "mean   5.431083e+07  1.553653e+08   109.658549      6.140762   2007.860773\n",
       "std    4.858721e+07  2.146698e+08    18.017041      0.764763      4.468841\n",
       "min    5.000000e+06  2.033165e+06    63.000000      3.300000   2000.000000\n",
       "25%    2.000000e+07  3.456058e+07    97.000000      5.600000   2004.000000\n",
       "50%    3.800000e+07  8.361541e+07   107.000000      6.100000   2008.000000\n",
       "75%    7.200000e+07  1.782626e+08   120.000000      6.600000   2012.000000\n",
       "max    3.800000e+08  2.781506e+09   214.000000      8.100000   2015.000000"
      ]
     },
     "execution_count": 59,
     "metadata": {},
     "output_type": "execute_result"
    }
   ],
   "source": [
    "data.describe()"
   ]
  },
  {
   "cell_type": "code",
   "execution_count": 61,
   "metadata": {},
   "outputs": [
    {
     "data": {
      "text/plain": [
       "{'1': 723    Pirates of the Caribbean: On Stranger Tides\n",
       " Name: original_title, dtype: object,\n",
       " '2': 1157    Gods and Generals\n",
       " Name: original_title, dtype: object,\n",
       " '3': 768    Winnie the Pooh\n",
       " Name: original_title, dtype: object,\n",
       " '4': 109.6585494970884}"
      ]
     },
     "execution_count": 61,
     "metadata": {},
     "output_type": "execute_result"
    }
   ],
   "source": [
    "answers['4'] =data.runtime.mean()\n",
    "answers"
   ]
  },
  {
   "cell_type": "markdown",
   "metadata": {
    "colab_type": "text",
    "id": "r5TvbnT_Vp-u"
   },
   "source": [
    "# 5. Каково медианное значение длительности фильмов? "
   ]
  },
  {
   "cell_type": "code",
   "execution_count": 63,
   "metadata": {
    "colab": {},
    "colab_type": "code",
    "id": "iBROplKnVp-v"
   },
   "outputs": [
    {
     "data": {
      "text/plain": [
       "{'1': 723    Pirates of the Caribbean: On Stranger Tides\n",
       " Name: original_title, dtype: object,\n",
       " '2': 1157    Gods and Generals\n",
       " Name: original_title, dtype: object,\n",
       " '3': 768    Winnie the Pooh\n",
       " Name: original_title, dtype: object,\n",
       " '4': 109.6585494970884,\n",
       " '5': 107}"
      ]
     },
     "execution_count": 63,
     "metadata": {},
     "output_type": "execute_result"
    }
   ],
   "source": [
    "\n",
    "from statistics import median\n",
    " \n",
    "answers['5'] =median(data.runtime)\n",
    "answers"
   ]
  },
  {
   "cell_type": "markdown",
   "metadata": {
    "colab_type": "text",
    "id": "39P-deDSVp-y"
   },
   "source": [
    "# 6. Какой самый прибыльный фильм?\n",
    "#### Внимание! Здесь и далее под «прибылью» или «убытками» понимается разность между сборами и бюджетом фильма. (прибыль = сборы - бюджет) в нашем датасете это будет (profit = revenue - budget) "
   ]
  },
  {
   "cell_type": "code",
   "execution_count": 72,
   "metadata": {
    "colab": {},
    "colab_type": "code",
    "id": "UYZh4T9WVp-y"
   },
   "outputs": [
    {
     "data": {
      "text/plain": [
       "{'1': 723    Pirates of the Caribbean: On Stranger Tides\n",
       " Name: original_title, dtype: object,\n",
       " '2': 1157    Gods and Generals\n",
       " Name: original_title, dtype: object,\n",
       " '3': 768    Winnie the Pooh\n",
       " Name: original_title, dtype: object,\n",
       " '4': 109.6585494970884,\n",
       " '5': 107,\n",
       " '6': 239    Avatar\n",
       " Name: original_title, dtype: object}"
      ]
     },
     "execution_count": 72,
     "metadata": {},
     "output_type": "execute_result"
    }
   ],
   "source": [
    "# лучше код получения столбца profit вынести в Предобработку что в начале\n",
    "answ = data[data.profit == data.profit.max()]\n",
    "answers['6'] =answ.original_title\n",
    "answers"
   ]
  },
  {
   "cell_type": "markdown",
   "metadata": {
    "colab_type": "text",
    "id": "M99JmIX4Vp-2"
   },
   "source": [
    "# 7. Какой фильм самый убыточный? "
   ]
  },
  {
   "cell_type": "code",
   "execution_count": 74,
   "metadata": {
    "colab": {},
    "colab_type": "code",
    "id": "w-D2m4XPVp-3"
   },
   "outputs": [
    {
     "data": {
      "text/html": [
       "<div>\n",
       "<style scoped>\n",
       "    .dataframe tbody tr th:only-of-type {\n",
       "        vertical-align: middle;\n",
       "    }\n",
       "\n",
       "    .dataframe tbody tr th {\n",
       "        vertical-align: top;\n",
       "    }\n",
       "\n",
       "    .dataframe thead th {\n",
       "        text-align: right;\n",
       "    }\n",
       "</style>\n",
       "<table border=\"1\" class=\"dataframe\">\n",
       "  <thead>\n",
       "    <tr style=\"text-align: right;\">\n",
       "      <th></th>\n",
       "      <th>imdb_id</th>\n",
       "      <th>budget</th>\n",
       "      <th>revenue</th>\n",
       "      <th>original_title</th>\n",
       "      <th>cast</th>\n",
       "      <th>director</th>\n",
       "      <th>tagline</th>\n",
       "      <th>overview</th>\n",
       "      <th>runtime</th>\n",
       "      <th>genres</th>\n",
       "      <th>production_companies</th>\n",
       "      <th>release_date</th>\n",
       "      <th>vote_average</th>\n",
       "      <th>release_year</th>\n",
       "      <th>profit</th>\n",
       "    </tr>\n",
       "  </thead>\n",
       "  <tbody>\n",
       "    <tr>\n",
       "      <th>1245</th>\n",
       "      <td>tt1210819</td>\n",
       "      <td>255000000</td>\n",
       "      <td>89289910</td>\n",
       "      <td>The Lone Ranger</td>\n",
       "      <td>Johnny Depp|Armie Hammer|William Fichtner|Hele...</td>\n",
       "      <td>Gore Verbinski</td>\n",
       "      <td>Never Take Off the Mask</td>\n",
       "      <td>The Texas Rangers chase down a gang of outlaws...</td>\n",
       "      <td>149</td>\n",
       "      <td>Action|Adventure|Western</td>\n",
       "      <td>Walt Disney Pictures|Jerry Bruckheimer Films|I...</td>\n",
       "      <td>7/3/2013</td>\n",
       "      <td>6.0</td>\n",
       "      <td>2013</td>\n",
       "      <td>-165710090</td>\n",
       "    </tr>\n",
       "  </tbody>\n",
       "</table>\n",
       "</div>"
      ],
      "text/plain": [
       "        imdb_id     budget   revenue   original_title  \\\n",
       "1245  tt1210819  255000000  89289910  The Lone Ranger   \n",
       "\n",
       "                                                   cast        director  \\\n",
       "1245  Johnny Depp|Armie Hammer|William Fichtner|Hele...  Gore Verbinski   \n",
       "\n",
       "                      tagline  \\\n",
       "1245  Never Take Off the Mask   \n",
       "\n",
       "                                               overview  runtime  \\\n",
       "1245  The Texas Rangers chase down a gang of outlaws...      149   \n",
       "\n",
       "                        genres  \\\n",
       "1245  Action|Adventure|Western   \n",
       "\n",
       "                                   production_companies release_date  \\\n",
       "1245  Walt Disney Pictures|Jerry Bruckheimer Films|I...     7/3/2013   \n",
       "\n",
       "      vote_average  release_year     profit  \n",
       "1245           6.0          2013 -165710090  "
      ]
     },
     "execution_count": 74,
     "metadata": {},
     "output_type": "execute_result"
    }
   ],
   "source": [
    "answ = data[data.profit == data.profit.min()]\n",
    "answers['7'] =answ.original_title\n",
    "answers"
   ]
  },
  {
   "cell_type": "markdown",
   "metadata": {
    "colab_type": "text",
    "id": "wEOM5ERVVp-6"
   },
   "source": [
    "# 8. У скольких фильмов из датасета объем сборов оказался выше бюджета?"
   ]
  },
  {
   "cell_type": "code",
   "execution_count": 76,
   "metadata": {
    "colab": {},
    "colab_type": "code",
    "id": "y00_7HD6Vp-7"
   },
   "outputs": [
    {
     "data": {
      "text/plain": [
       "{'1': 723    Pirates of the Caribbean: On Stranger Tides\n",
       " Name: original_title, dtype: object,\n",
       " '2': 1157    Gods and Generals\n",
       " Name: original_title, dtype: object,\n",
       " '3': 768    Winnie the Pooh\n",
       " Name: original_title, dtype: object,\n",
       " '4': 109.6585494970884,\n",
       " '5': 107,\n",
       " '6': 239    Avatar\n",
       " Name: original_title, dtype: object,\n",
       " '7': 1245    The Lone Ranger\n",
       " Name: original_title, dtype: object,\n",
       " '8': 1478}"
      ]
     },
     "execution_count": 76,
     "metadata": {},
     "output_type": "execute_result"
    }
   ],
   "source": [
    "answ = data[data.profit > 0]\n",
    "answers['8'] =len(answ)\n",
    "answers"
   ]
  },
  {
   "cell_type": "markdown",
   "metadata": {
    "colab_type": "text",
    "id": "xhpspA9KVp_A"
   },
   "source": [
    "# 9. Какой фильм оказался самым кассовым в 2008 году?"
   ]
  },
  {
   "cell_type": "code",
   "execution_count": 78,
   "metadata": {
    "colab": {},
    "colab_type": "code",
    "id": "MoUyQr9RVp_B"
   },
   "outputs": [
    {
     "data": {
      "text/plain": [
       "{'1': 723    Pirates of the Caribbean: On Stranger Tides\n",
       " Name: original_title, dtype: object,\n",
       " '2': 1157    Gods and Generals\n",
       " Name: original_title, dtype: object,\n",
       " '3': 768    Winnie the Pooh\n",
       " Name: original_title, dtype: object,\n",
       " '4': 109.6585494970884,\n",
       " '5': 107,\n",
       " '6': 239    Avatar\n",
       " Name: original_title, dtype: object,\n",
       " '7': 1245    The Lone Ranger\n",
       " Name: original_title, dtype: object,\n",
       " '8': 1478,\n",
       " '9': 599    The Dark Knight\n",
       " Name: original_title, dtype: object}"
      ]
     },
     "execution_count": 78,
     "metadata": {},
     "output_type": "execute_result"
    }
   ],
   "source": [
    "data2 = data[data.release_year == 2008]\n",
    "answ = data2[data2.revenue == data2.revenue.max()]\n",
    "answers['9'] =answ.original_title\n",
    "answers"
   ]
  },
  {
   "cell_type": "markdown",
   "metadata": {
    "colab_type": "text",
    "id": "Zi4hDKidVp_F"
   },
   "source": [
    "# 10. Самый убыточный фильм за период с 2012 по 2014 г. (включительно)?\n"
   ]
  },
  {
   "cell_type": "code",
   "execution_count": 80,
   "metadata": {
    "colab": {},
    "colab_type": "code",
    "id": "XqyRmufJVp_F"
   },
   "outputs": [
    {
     "data": {
      "text/plain": [
       "{'1': 723    Pirates of the Caribbean: On Stranger Tides\n",
       " Name: original_title, dtype: object,\n",
       " '2': 1157    Gods and Generals\n",
       " Name: original_title, dtype: object,\n",
       " '3': 768    Winnie the Pooh\n",
       " Name: original_title, dtype: object,\n",
       " '4': 109.6585494970884,\n",
       " '5': 107,\n",
       " '6': 239    Avatar\n",
       " Name: original_title, dtype: object,\n",
       " '7': 1245    The Lone Ranger\n",
       " Name: original_title, dtype: object,\n",
       " '8': 1478,\n",
       " '9': 599    The Dark Knight\n",
       " Name: original_title, dtype: object,\n",
       " '10': 1245    The Lone Ranger\n",
       " Name: original_title, dtype: object}"
      ]
     },
     "execution_count": 80,
     "metadata": {},
     "output_type": "execute_result"
    }
   ],
   "source": [
    "data2 = data[(data.release_year > 2011) & (data.release_year < 2015)]\n",
    "answ = data2[data2.profit == data2.profit.min()]\n",
    "answers['10'] =answ.original_title\n",
    "answers"
   ]
  },
  {
   "cell_type": "markdown",
   "metadata": {
    "colab_type": "text",
    "id": "EA7Sa9dkVp_I"
   },
   "source": [
    "# 11. Какого жанра фильмов больше всего?"
   ]
  },
  {
   "cell_type": "code",
   "execution_count": 86,
   "metadata": {
    "colab": {},
    "colab_type": "code",
    "id": "zsJAwJ8QVp_J"
   },
   "outputs": [],
   "source": [
    "# эту задачу тоже можно решать разными подходами, попробуй реализовать разные варианты\n",
    "# если будешь добавлять функцию - выноси ее в предобработку что в начале\n",
    "\n",
    "\n",
    "diction = counts(data.genres)            "
   ]
  },
  {
   "cell_type": "code",
   "execution_count": 98,
   "metadata": {},
   "outputs": [
    {
     "name": "stdout",
     "output_type": "stream",
     "text": [
      "{'Action': 582, 'Adventure': 415, 'Science Fiction': 248, 'Thriller': 596, 'Fantasy': 222, 'Crime': 315, 'Western': 19, 'Drama': 782, 'Family': 260, 'Animation': 139, 'Comedy': 683, 'Mystery': 168, 'Romance': 308, 'War': 58, 'History': 62, 'Music': 64, 'Horror': 176, 'Documentary': 8, 'Foreign': 2}\n"
     ]
    },
    {
     "data": {
      "text/html": [
       "<div>\n",
       "<style scoped>\n",
       "    .dataframe tbody tr th:only-of-type {\n",
       "        vertical-align: middle;\n",
       "    }\n",
       "\n",
       "    .dataframe tbody tr th {\n",
       "        vertical-align: top;\n",
       "    }\n",
       "\n",
       "    .dataframe thead th {\n",
       "        text-align: right;\n",
       "    }\n",
       "</style>\n",
       "<table border=\"1\" class=\"dataframe\">\n",
       "  <thead>\n",
       "    <tr style=\"text-align: right;\">\n",
       "      <th></th>\n",
       "      <th>genres</th>\n",
       "      <th>value</th>\n",
       "    </tr>\n",
       "  </thead>\n",
       "  <tbody>\n",
       "    <tr>\n",
       "      <th>7</th>\n",
       "      <td>Drama</td>\n",
       "      <td>782</td>\n",
       "    </tr>\n",
       "  </tbody>\n",
       "</table>\n",
       "</div>"
      ],
      "text/plain": [
       "  genres  value\n",
       "7  Drama    782"
      ]
     },
     "execution_count": 98,
     "metadata": {},
     "output_type": "execute_result"
    }
   ],
   "source": [
    "print(diction)\n",
    "keys = []\n",
    "vals = []\n",
    "for key, values in diction.items():\n",
    "    keys.append(key)\n",
    "    vals.append(values)\n",
    "gens = pd.DataFrame({'genres': keys, 'value' : vals})\n",
    "genmax = gens[gens.value == gens.value.max()]\n",
    "genmax"
   ]
  },
  {
   "cell_type": "code",
   "execution_count": 99,
   "metadata": {},
   "outputs": [
    {
     "data": {
      "text/plain": [
       "{'1': 723    Pirates of the Caribbean: On Stranger Tides\n",
       " Name: original_title, dtype: object,\n",
       " '2': 1157    Gods and Generals\n",
       " Name: original_title, dtype: object,\n",
       " '3': 768    Winnie the Pooh\n",
       " Name: original_title, dtype: object,\n",
       " '4': 109.6585494970884,\n",
       " '5': 107,\n",
       " '6': 239    Avatar\n",
       " Name: original_title, dtype: object,\n",
       " '7': 1245    The Lone Ranger\n",
       " Name: original_title, dtype: object,\n",
       " '8': 1478,\n",
       " '9': 599    The Dark Knight\n",
       " Name: original_title, dtype: object,\n",
       " '10': 1245    The Lone Ranger\n",
       " Name: original_title, dtype: object,\n",
       " '11': 7    Drama\n",
       " Name: genres, dtype: object}"
      ]
     },
     "execution_count": 99,
     "metadata": {},
     "output_type": "execute_result"
    }
   ],
   "source": [
    "answers['11'] =genmax.genres\n",
    "answers"
   ]
  },
  {
   "cell_type": "markdown",
   "metadata": {
    "colab_type": "text",
    "id": "Ax6g2C8SVp_M"
   },
   "source": [
    "ВАРИАНТ 2"
   ]
  },
  {
   "cell_type": "code",
   "execution_count": 0,
   "metadata": {
    "colab": {},
    "colab_type": "code",
    "id": "otO3SbrSVp_N"
   },
   "outputs": [],
   "source": []
  },
  {
   "cell_type": "markdown",
   "metadata": {
    "colab_type": "text",
    "id": "T9_bPWpkVp_Q"
   },
   "source": [
    "# 12. Фильмы какого жанра чаще всего становятся прибыльными? "
   ]
  },
  {
   "cell_type": "code",
   "execution_count": 101,
   "metadata": {
    "colab": {},
    "colab_type": "code",
    "id": "Tmt8MaK1Vp_R"
   },
   "outputs": [
    {
     "name": "stdout",
     "output_type": "stream",
     "text": [
      "{'Action': 444, 'Adventure': 337, 'Science Fiction': 195, 'Thriller': 446, 'Fantasy': 188, 'Crime': 231, 'Western': 12, 'Drama': 560, 'Family': 226, 'Animation': 120, 'Comedy': 551, 'Mystery': 119, 'Romance': 242, 'War': 41, 'History': 46, 'Music': 47, 'Horror': 150, 'Documentary': 7}\n"
     ]
    },
    {
     "data": {
      "text/html": [
       "<div>\n",
       "<style scoped>\n",
       "    .dataframe tbody tr th:only-of-type {\n",
       "        vertical-align: middle;\n",
       "    }\n",
       "\n",
       "    .dataframe tbody tr th {\n",
       "        vertical-align: top;\n",
       "    }\n",
       "\n",
       "    .dataframe thead th {\n",
       "        text-align: right;\n",
       "    }\n",
       "</style>\n",
       "<table border=\"1\" class=\"dataframe\">\n",
       "  <thead>\n",
       "    <tr style=\"text-align: right;\">\n",
       "      <th></th>\n",
       "      <th>genres</th>\n",
       "      <th>value</th>\n",
       "    </tr>\n",
       "  </thead>\n",
       "  <tbody>\n",
       "    <tr>\n",
       "      <th>7</th>\n",
       "      <td>Drama</td>\n",
       "      <td>560</td>\n",
       "    </tr>\n",
       "  </tbody>\n",
       "</table>\n",
       "</div>"
      ],
      "text/plain": [
       "  genres  value\n",
       "7  Drama    560"
      ]
     },
     "execution_count": 101,
     "metadata": {},
     "output_type": "execute_result"
    }
   ],
   "source": [
    "dataprofited = data[data.profit > 0]\n",
    "dicdprofited = counts(dataprofited.genres)\n",
    "print(dicdprofited)\n",
    "keys = []\n",
    "vals = []\n",
    "for key, values in dicdprofited.items():\n",
    "    keys.append(key)\n",
    "    vals.append(values)\n",
    "gens = pd.DataFrame({'genres': keys, 'value' : vals})\n",
    "genmax = gens[gens.value == gens.value.max()]\n",
    "genmax"
   ]
  },
  {
   "cell_type": "code",
   "execution_count": 102,
   "metadata": {},
   "outputs": [
    {
     "data": {
      "text/plain": [
       "{'1': 723    Pirates of the Caribbean: On Stranger Tides\n",
       " Name: original_title, dtype: object,\n",
       " '2': 1157    Gods and Generals\n",
       " Name: original_title, dtype: object,\n",
       " '3': 768    Winnie the Pooh\n",
       " Name: original_title, dtype: object,\n",
       " '4': 109.6585494970884,\n",
       " '5': 107,\n",
       " '6': 239    Avatar\n",
       " Name: original_title, dtype: object,\n",
       " '7': 1245    The Lone Ranger\n",
       " Name: original_title, dtype: object,\n",
       " '8': 1478,\n",
       " '9': 599    The Dark Knight\n",
       " Name: original_title, dtype: object,\n",
       " '10': 1245    The Lone Ranger\n",
       " Name: original_title, dtype: object,\n",
       " '11': 7    Drama\n",
       " Name: genres, dtype: object,\n",
       " '12': 7    Drama\n",
       " Name: genres, dtype: object}"
      ]
     },
     "execution_count": 102,
     "metadata": {},
     "output_type": "execute_result"
    }
   ],
   "source": [
    "answers['12'] =genmax.genres\n",
    "answers"
   ]
  },
  {
   "cell_type": "markdown",
   "metadata": {
    "colab_type": "text",
    "id": "0F23bgsDVp_U"
   },
   "source": [
    "# 13. У какого режиссера самые большие суммарные кассовые сборы?"
   ]
  },
  {
   "cell_type": "code",
   "execution_count": 103,
   "metadata": {
    "colab": {},
    "colab_type": "code",
    "id": "K6Z3J8ygVp_X"
   },
   "outputs": [
    {
     "data": {
      "text/html": [
       "<div>\n",
       "<style scoped>\n",
       "    .dataframe tbody tr th:only-of-type {\n",
       "        vertical-align: middle;\n",
       "    }\n",
       "\n",
       "    .dataframe tbody tr th {\n",
       "        vertical-align: top;\n",
       "    }\n",
       "\n",
       "    .dataframe thead th {\n",
       "        text-align: right;\n",
       "    }\n",
       "</style>\n",
       "<table border=\"1\" class=\"dataframe\">\n",
       "  <thead>\n",
       "    <tr style=\"text-align: right;\">\n",
       "      <th></th>\n",
       "      <th>imdb_id</th>\n",
       "      <th>budget</th>\n",
       "      <th>revenue</th>\n",
       "      <th>original_title</th>\n",
       "      <th>cast</th>\n",
       "      <th>director</th>\n",
       "      <th>tagline</th>\n",
       "      <th>overview</th>\n",
       "      <th>runtime</th>\n",
       "      <th>genres</th>\n",
       "      <th>production_companies</th>\n",
       "      <th>release_date</th>\n",
       "      <th>vote_average</th>\n",
       "      <th>release_year</th>\n",
       "      <th>profit</th>\n",
       "    </tr>\n",
       "  </thead>\n",
       "  <tbody>\n",
       "    <tr>\n",
       "      <th>976</th>\n",
       "      <td>tt0903624</td>\n",
       "      <td>250000000</td>\n",
       "      <td>1017003568</td>\n",
       "      <td>The Hobbit: An Unexpected Journey</td>\n",
       "      <td>Ian McKellen|Martin Freeman|Richard Armitage|A...</td>\n",
       "      <td>Peter Jackson</td>\n",
       "      <td>From the smallest beginnings come the greatest...</td>\n",
       "      <td>Bilbo Baggins, a hobbit enjoying his quiet lif...</td>\n",
       "      <td>169</td>\n",
       "      <td>Adventure|Fantasy|Action</td>\n",
       "      <td>WingNut Films|New Line Cinema|Metro-Goldwyn-Ma...</td>\n",
       "      <td>11/26/2012</td>\n",
       "      <td>6.9</td>\n",
       "      <td>2012</td>\n",
       "      <td>767003568</td>\n",
       "    </tr>\n",
       "  </tbody>\n",
       "</table>\n",
       "</div>"
      ],
      "text/plain": [
       "       imdb_id     budget     revenue                     original_title  \\\n",
       "976  tt0903624  250000000  1017003568  The Hobbit: An Unexpected Journey   \n",
       "\n",
       "                                                  cast       director  \\\n",
       "976  Ian McKellen|Martin Freeman|Richard Armitage|A...  Peter Jackson   \n",
       "\n",
       "                                               tagline  \\\n",
       "976  From the smallest beginnings come the greatest...   \n",
       "\n",
       "                                              overview  runtime  \\\n",
       "976  Bilbo Baggins, a hobbit enjoying his quiet lif...      169   \n",
       "\n",
       "                       genres  \\\n",
       "976  Adventure|Fantasy|Action   \n",
       "\n",
       "                                  production_companies release_date  \\\n",
       "976  WingNut Films|New Line Cinema|Metro-Goldwyn-Ma...   11/26/2012   \n",
       "\n",
       "     vote_average  release_year     profit  \n",
       "976           6.9          2012  767003568  "
      ]
     },
     "execution_count": 103,
     "metadata": {},
     "output_type": "execute_result"
    }
   ],
   "source": [
    "data.sample(1)"
   ]
  },
  {
   "cell_type": "code",
   "execution_count": 116,
   "metadata": {},
   "outputs": [
    {
     "data": {
      "text/html": [
       "<div>\n",
       "<style scoped>\n",
       "    .dataframe tbody tr th:only-of-type {\n",
       "        vertical-align: middle;\n",
       "    }\n",
       "\n",
       "    .dataframe tbody tr th {\n",
       "        vertical-align: top;\n",
       "    }\n",
       "\n",
       "    .dataframe thead th {\n",
       "        text-align: right;\n",
       "    }\n",
       "</style>\n",
       "<table border=\"1\" class=\"dataframe\">\n",
       "  <thead>\n",
       "    <tr style=\"text-align: right;\">\n",
       "      <th></th>\n",
       "      <th>director</th>\n",
       "      <th>value</th>\n",
       "    </tr>\n",
       "  </thead>\n",
       "  <tbody>\n",
       "    <tr>\n",
       "      <th>122</th>\n",
       "      <td>Peter Jackson</td>\n",
       "      <td>6490593685</td>\n",
       "    </tr>\n",
       "  </tbody>\n",
       "</table>\n",
       "</div>"
      ],
      "text/plain": [
       "          director       value\n",
       "122  Peter Jackson  6490593685"
      ]
     },
     "execution_count": 116,
     "metadata": {},
     "output_type": "execute_result"
    }
   ],
   "source": [
    "ss = summ(data, 'director', 'revenue')\n",
    "ss\n",
    "keys = []\n",
    "vals = []\n",
    "for key, values in ss.items():\n",
    "    keys.append(key)\n",
    "    vals.append(values)\n",
    "d_sums = pd.DataFrame({'director': keys, 'value' : vals})\n",
    "d_sum_max = d_sums[d_sums.value == d_sums.value.max()]\n",
    "d_sum_max"
   ]
  },
  {
   "cell_type": "code",
   "execution_count": 119,
   "metadata": {},
   "outputs": [
    {
     "data": {
      "text/plain": [
       "{'1': 723    Pirates of the Caribbean: On Stranger Tides\n",
       " Name: original_title, dtype: object,\n",
       " '2': 1157    Gods and Generals\n",
       " Name: original_title, dtype: object,\n",
       " '3': 768    Winnie the Pooh\n",
       " Name: original_title, dtype: object,\n",
       " '4': 109.6585494970884,\n",
       " '5': 107,\n",
       " '6': 239    Avatar\n",
       " Name: original_title, dtype: object,\n",
       " '7': 1245    The Lone Ranger\n",
       " Name: original_title, dtype: object,\n",
       " '8': 1478,\n",
       " '9': 599    The Dark Knight\n",
       " Name: original_title, dtype: object,\n",
       " '10': 1245    The Lone Ranger\n",
       " Name: original_title, dtype: object,\n",
       " '11': 7    Drama\n",
       " Name: genres, dtype: object,\n",
       " '12': 7    Drama\n",
       " Name: genres, dtype: object,\n",
       " '13': 122    Peter Jackson\n",
       " Name: director, dtype: object}"
      ]
     },
     "execution_count": 119,
     "metadata": {},
     "output_type": "execute_result"
    }
   ],
   "source": [
    "answers['13'] =d_sum_max.director\n",
    "answers"
   ]
  },
  {
   "cell_type": "markdown",
   "metadata": {
    "colab_type": "text",
    "id": "PsYC9FgRVp_a"
   },
   "source": [
    "# 14. Какой режисер снял больше всего фильмов в стиле Action?"
   ]
  },
  {
   "cell_type": "code",
   "execution_count": 142,
   "metadata": {
    "colab": {},
    "colab_type": "code",
    "id": "wd2M-wHeVp_b"
   },
   "outputs": [
    {
     "data": {
      "text/html": [
       "<div>\n",
       "<style scoped>\n",
       "    .dataframe tbody tr th:only-of-type {\n",
       "        vertical-align: middle;\n",
       "    }\n",
       "\n",
       "    .dataframe tbody tr th {\n",
       "        vertical-align: top;\n",
       "    }\n",
       "\n",
       "    .dataframe thead th {\n",
       "        text-align: right;\n",
       "    }\n",
       "</style>\n",
       "<table border=\"1\" class=\"dataframe\">\n",
       "  <thead>\n",
       "    <tr style=\"text-align: right;\">\n",
       "      <th></th>\n",
       "      <th>director</th>\n",
       "      <th>value</th>\n",
       "    </tr>\n",
       "  </thead>\n",
       "  <tbody>\n",
       "    <tr>\n",
       "      <th>123</th>\n",
       "      <td>Robert Rodriguez</td>\n",
       "      <td>9</td>\n",
       "    </tr>\n",
       "  </tbody>\n",
       "</table>\n",
       "</div>"
      ],
      "text/plain": [
       "             director  value\n",
       "123  Robert Rodriguez      9"
      ]
     },
     "execution_count": 142,
     "metadata": {},
     "output_type": "execute_result"
    }
   ],
   "source": [
    "data_Action = data[data.genres.str.contains('Action')]\n",
    "\n",
    "diction = counts(data_Action.director)\n",
    "\n",
    "keys = []\n",
    "vals = []\n",
    "for key, values in diction.items():\n",
    "    keys.append(key)\n",
    "    vals.append(values)\n",
    "dirs = pd.DataFrame({'director': keys, 'value' : vals})\n",
    "dirmax = dirs[dirs.value == dirs.value.max()]\n",
    "dirmax"
   ]
  },
  {
   "cell_type": "code",
   "execution_count": 143,
   "metadata": {},
   "outputs": [
    {
     "data": {
      "text/plain": [
       "123    Robert Rodriguez\n",
       "Name: director, dtype: object"
      ]
     },
     "execution_count": 143,
     "metadata": {},
     "output_type": "execute_result"
    }
   ],
   "source": [
    "answers['14'] =dirmax.director\n",
    "answers['14']"
   ]
  },
  {
   "cell_type": "markdown",
   "metadata": {
    "colab_type": "text",
    "id": "PQ0KciD7Vp_f"
   },
   "source": [
    "# 15. Фильмы с каким актером принесли самые высокие кассовые сборы в 2012 году? "
   ]
  },
  {
   "cell_type": "code",
   "execution_count": 150,
   "metadata": {
    "colab": {},
    "colab_type": "code",
    "id": "aga62oeKVp_g"
   },
   "outputs": [
    {
     "data": {
      "text/html": [
       "<div>\n",
       "<style scoped>\n",
       "    .dataframe tbody tr th:only-of-type {\n",
       "        vertical-align: middle;\n",
       "    }\n",
       "\n",
       "    .dataframe tbody tr th {\n",
       "        vertical-align: top;\n",
       "    }\n",
       "\n",
       "    .dataframe thead th {\n",
       "        text-align: right;\n",
       "    }\n",
       "</style>\n",
       "<table border=\"1\" class=\"dataframe\">\n",
       "  <thead>\n",
       "    <tr style=\"text-align: right;\">\n",
       "      <th></th>\n",
       "      <th>actor</th>\n",
       "      <th>value</th>\n",
       "    </tr>\n",
       "  </thead>\n",
       "  <tbody>\n",
       "    <tr>\n",
       "      <th>3</th>\n",
       "      <td>Chris Hemsworth</td>\n",
       "      <td>2027450773</td>\n",
       "    </tr>\n",
       "  </tbody>\n",
       "</table>\n",
       "</div>"
      ],
      "text/plain": [
       "             actor       value\n",
       "3  Chris Hemsworth  2027450773"
      ]
     },
     "execution_count": 150,
     "metadata": {},
     "output_type": "execute_result"
    }
   ],
   "source": [
    "data2012 = data[data.release_year == 2012]\n",
    "acts = el_sum(data2012, 'cast', 'revenue')\n",
    "\n",
    "keys = []\n",
    "vals = []\n",
    "for key, values in acts.items():\n",
    "    keys.append(key)\n",
    "    vals.append(values)\n",
    "acts = pd.DataFrame({'actor': keys, 'value' : vals})\n",
    "actmax = acts[acts.value == acts.value.max()]\n",
    "actmax"
   ]
  },
  {
   "cell_type": "code",
   "execution_count": 151,
   "metadata": {},
   "outputs": [
    {
     "data": {
      "text/plain": [
       "3    Chris Hemsworth\n",
       "Name: actor, dtype: object"
      ]
     },
     "execution_count": 151,
     "metadata": {},
     "output_type": "execute_result"
    }
   ],
   "source": [
    "answers['15'] =actmax.actor\n",
    "answers['15']"
   ]
  },
  {
   "cell_type": "markdown",
   "metadata": {
    "colab_type": "text",
    "id": "mWHyyL7QVp_j"
   },
   "source": [
    "# 16. Какой актер снялся в большем количестве высокобюджетных фильмов?"
   ]
  },
  {
   "cell_type": "code",
   "execution_count": 155,
   "metadata": {
    "colab": {},
    "colab_type": "code",
    "id": "qQtmHKTFVp_k"
   },
   "outputs": [
    {
     "data": {
      "text/html": [
       "<div>\n",
       "<style scoped>\n",
       "    .dataframe tbody tr th:only-of-type {\n",
       "        vertical-align: middle;\n",
       "    }\n",
       "\n",
       "    .dataframe tbody tr th {\n",
       "        vertical-align: top;\n",
       "    }\n",
       "\n",
       "    .dataframe thead th {\n",
       "        text-align: right;\n",
       "    }\n",
       "</style>\n",
       "<table border=\"1\" class=\"dataframe\">\n",
       "  <thead>\n",
       "    <tr style=\"text-align: right;\">\n",
       "      <th></th>\n",
       "      <th>actor</th>\n",
       "      <th>value</th>\n",
       "    </tr>\n",
       "  </thead>\n",
       "  <tbody>\n",
       "    <tr>\n",
       "      <th>34</th>\n",
       "      <td>Matt Damon</td>\n",
       "      <td>18</td>\n",
       "    </tr>\n",
       "  </tbody>\n",
       "</table>\n",
       "</div>"
      ],
      "text/plain": [
       "         actor  value\n",
       "34  Matt Damon     18"
      ]
     },
     "execution_count": 155,
     "metadata": {},
     "output_type": "execute_result"
    }
   ],
   "source": [
    "databud = data[data.budget > data.budget.mean()]\n",
    "dic = counts(databud.cast)\n",
    "keys = []\n",
    "vals = []\n",
    "for key, values in dic.items():\n",
    "    keys.append(key)\n",
    "    vals.append(values)\n",
    "a_sums = pd.DataFrame({'actor': keys, 'value' : vals})\n",
    "a_sum_max = a_sums[a_sums.value == a_sums.value.max()]\n",
    "a_sum_max"
   ]
  },
  {
   "cell_type": "code",
   "execution_count": 156,
   "metadata": {},
   "outputs": [
    {
     "data": {
      "text/plain": [
       "34    Matt Damon\n",
       "Name: actor, dtype: object"
      ]
     },
     "execution_count": 156,
     "metadata": {},
     "output_type": "execute_result"
    }
   ],
   "source": [
    "answers['16'] =a_sum_max.actor\n",
    "answers['16']"
   ]
  },
  {
   "cell_type": "markdown",
   "metadata": {
    "colab_type": "text",
    "id": "NIh6AaW5Vp_n"
   },
   "source": [
    "# 17. В фильмах какого жанра больше всего снимался Nicolas Cage? "
   ]
  },
  {
   "cell_type": "code",
   "execution_count": 158,
   "metadata": {
    "colab": {},
    "colab_type": "code",
    "id": "H74SJDIBVp_n"
   },
   "outputs": [
    {
     "data": {
      "text/plain": [
       "{'Thriller': 15,\n",
       " 'Action': 17,\n",
       " 'Science Fiction': 4,\n",
       " 'Adventure': 7,\n",
       " 'Drama': 12,\n",
       " 'Mystery': 3,\n",
       " 'Crime': 10,\n",
       " 'Animation': 3,\n",
       " 'Family': 3,\n",
       " 'Fantasy': 8,\n",
       " 'Comedy': 6,\n",
       " 'History': 2,\n",
       " 'War': 1,\n",
       " 'Horror': 1,\n",
       " 'Romance': 1}"
      ]
     },
     "execution_count": 158,
     "metadata": {},
     "output_type": "execute_result"
    }
   ],
   "source": [
    "datanc = data[data.cast.str.contains('Nicolas Cage')]\n",
    "dic = counts(datanc.genres)\n",
    "dic"
   ]
  },
  {
   "cell_type": "code",
   "execution_count": 160,
   "metadata": {},
   "outputs": [
    {
     "data": {
      "text/html": [
       "<div>\n",
       "<style scoped>\n",
       "    .dataframe tbody tr th:only-of-type {\n",
       "        vertical-align: middle;\n",
       "    }\n",
       "\n",
       "    .dataframe tbody tr th {\n",
       "        vertical-align: top;\n",
       "    }\n",
       "\n",
       "    .dataframe thead th {\n",
       "        text-align: right;\n",
       "    }\n",
       "</style>\n",
       "<table border=\"1\" class=\"dataframe\">\n",
       "  <thead>\n",
       "    <tr style=\"text-align: right;\">\n",
       "      <th></th>\n",
       "      <th>genres</th>\n",
       "      <th>value</th>\n",
       "    </tr>\n",
       "  </thead>\n",
       "  <tbody>\n",
       "    <tr>\n",
       "      <th>1</th>\n",
       "      <td>Action</td>\n",
       "      <td>17</td>\n",
       "    </tr>\n",
       "  </tbody>\n",
       "</table>\n",
       "</div>"
      ],
      "text/plain": [
       "   genres  value\n",
       "1  Action     17"
      ]
     },
     "execution_count": 160,
     "metadata": {},
     "output_type": "execute_result"
    }
   ],
   "source": [
    "keys = []\n",
    "vals = []\n",
    "for key, values in dic.items():\n",
    "    keys.append(key)\n",
    "    vals.append(values)\n",
    "gens = pd.DataFrame({'genres': keys, 'value' : vals})\n",
    "genmax = gens[gens.value == gens.value.max()]\n",
    "genmax"
   ]
  },
  {
   "cell_type": "code",
   "execution_count": 162,
   "metadata": {},
   "outputs": [
    {
     "data": {
      "text/plain": [
       "1    Action\n",
       "Name: genres, dtype: object"
      ]
     },
     "execution_count": 162,
     "metadata": {},
     "output_type": "execute_result"
    }
   ],
   "source": [
    "answers['17'] =genmax.genres\n",
    "answers['17']"
   ]
  },
  {
   "cell_type": "markdown",
   "metadata": {
    "colab_type": "text",
    "id": "RqOmPRfWVp_q"
   },
   "source": [
    "# 18. Самый убыточный фильм от Paramount Pictures"
   ]
  },
  {
   "cell_type": "code",
   "execution_count": 167,
   "metadata": {
    "colab": {},
    "colab_type": "code",
    "id": "9E_B0Y96Vp_r"
   },
   "outputs": [
    {
     "data": {
      "text/plain": [
       "925    K-19: The Widowmaker\n",
       "Name: original_title, dtype: object"
      ]
     },
     "execution_count": 167,
     "metadata": {},
     "output_type": "execute_result"
    }
   ],
   "source": [
    "datapp =data[data.production_companies.str.contains('Paramount Pictures')]\n",
    "datappmin = datapp[datapp.profit == datapp.profit.min()]\n",
    "\n",
    "answers['18'] =datappmin.original_title\n",
    "answers['18']"
   ]
  },
  {
   "cell_type": "markdown",
   "metadata": {
    "colab_type": "text",
    "id": "vS8Ur6ddVp_u"
   },
   "source": [
    "# 19. Какой год стал самым успешным по суммарным кассовым сборам?"
   ]
  },
  {
   "cell_type": "code",
   "execution_count": 169,
   "metadata": {
    "colab": {},
    "colab_type": "code",
    "id": "Dnbt4GdIVp_v"
   },
   "outputs": [
    {
     "data": {
      "text/html": [
       "<div>\n",
       "<style scoped>\n",
       "    .dataframe tbody tr th:only-of-type {\n",
       "        vertical-align: middle;\n",
       "    }\n",
       "\n",
       "    .dataframe tbody tr th {\n",
       "        vertical-align: top;\n",
       "    }\n",
       "\n",
       "    .dataframe thead th {\n",
       "        text-align: right;\n",
       "    }\n",
       "</style>\n",
       "<table border=\"1\" class=\"dataframe\">\n",
       "  <thead>\n",
       "    <tr style=\"text-align: right;\">\n",
       "      <th></th>\n",
       "      <th>year</th>\n",
       "      <th>value</th>\n",
       "    </tr>\n",
       "  </thead>\n",
       "  <tbody>\n",
       "    <tr>\n",
       "      <th>0</th>\n",
       "      <td>2015</td>\n",
       "      <td>18668572378</td>\n",
       "    </tr>\n",
       "  </tbody>\n",
       "</table>\n",
       "</div>"
      ],
      "text/plain": [
       "   year        value\n",
       "0  2015  18668572378"
      ]
     },
     "execution_count": 169,
     "metadata": {},
     "output_type": "execute_result"
    }
   ],
   "source": [
    "dic = summ(data, 'release_year', 'profit')\n",
    "\n",
    "keys = []\n",
    "vals = []\n",
    "for key, values in dic.items():\n",
    "    keys.append(key)\n",
    "    vals.append(values)\n",
    "gens = pd.DataFrame({'year': keys, 'value' : vals})\n",
    "genmax = gens[gens.value == gens.value.max()]\n",
    "genmax"
   ]
  },
  {
   "cell_type": "code",
   "execution_count": 170,
   "metadata": {},
   "outputs": [
    {
     "data": {
      "text/plain": [
       "0    2015\n",
       "Name: year, dtype: int64"
      ]
     },
     "execution_count": 170,
     "metadata": {},
     "output_type": "execute_result"
    }
   ],
   "source": [
    "answers['19'] =genmax.year\n",
    "answers['19']"
   ]
  },
  {
   "cell_type": "markdown",
   "metadata": {
    "colab_type": "text",
    "id": "JAzJh4QAVp_z"
   },
   "source": [
    "# 20. Какой самый прибыльный год для студии Warner Bros?"
   ]
  },
  {
   "cell_type": "code",
   "execution_count": 171,
   "metadata": {
    "colab": {},
    "colab_type": "code",
    "id": "wgVu02DEVp_0"
   },
   "outputs": [
    {
     "data": {
      "text/html": [
       "<div>\n",
       "<style scoped>\n",
       "    .dataframe tbody tr th:only-of-type {\n",
       "        vertical-align: middle;\n",
       "    }\n",
       "\n",
       "    .dataframe tbody tr th {\n",
       "        vertical-align: top;\n",
       "    }\n",
       "\n",
       "    .dataframe thead th {\n",
       "        text-align: right;\n",
       "    }\n",
       "</style>\n",
       "<table border=\"1\" class=\"dataframe\">\n",
       "  <thead>\n",
       "    <tr style=\"text-align: right;\">\n",
       "      <th></th>\n",
       "      <th>year</th>\n",
       "      <th>value</th>\n",
       "    </tr>\n",
       "  </thead>\n",
       "  <tbody>\n",
       "    <tr>\n",
       "      <th>1</th>\n",
       "      <td>2014</td>\n",
       "      <td>2295464519</td>\n",
       "    </tr>\n",
       "  </tbody>\n",
       "</table>\n",
       "</div>"
      ],
      "text/plain": [
       "   year       value\n",
       "1  2014  2295464519"
      ]
     },
     "execution_count": 171,
     "metadata": {},
     "output_type": "execute_result"
    }
   ],
   "source": [
    "datawb = data[data.production_companies.str.contains('Warner Bros')]\n",
    "dic = summ(datawb, 'release_year', 'profit')\n",
    "\n",
    "keys = []\n",
    "vals = []\n",
    "for key, values in dic.items():\n",
    "    keys.append(key)\n",
    "    vals.append(values)\n",
    "gens = pd.DataFrame({'year': keys, 'value' : vals})\n",
    "genmax = gens[gens.value == gens.value.max()]\n",
    "genmax"
   ]
  },
  {
   "cell_type": "code",
   "execution_count": 172,
   "metadata": {},
   "outputs": [
    {
     "data": {
      "text/plain": [
       "1    2014\n",
       "Name: year, dtype: int64"
      ]
     },
     "execution_count": 172,
     "metadata": {},
     "output_type": "execute_result"
    }
   ],
   "source": [
    "answers['20'] =genmax.year\n",
    "answers['20']"
   ]
  },
  {
   "cell_type": "markdown",
   "metadata": {
    "colab_type": "text",
    "id": "8Im1S2HRVp_4"
   },
   "source": [
    "# 21. В каком месяце за все годы суммарно вышло больше всего фильмов?"
   ]
  },
  {
   "cell_type": "code",
   "execution_count": 175,
   "metadata": {
    "colab": {},
    "colab_type": "code",
    "id": "lev6TH7gVp_4"
   },
   "outputs": [],
   "source": []
  },
  {
   "cell_type": "code",
   "execution_count": 180,
   "metadata": {},
   "outputs": [
    {
     "data": {
      "text/html": [
       "<div>\n",
       "<style scoped>\n",
       "    .dataframe tbody tr th:only-of-type {\n",
       "        vertical-align: middle;\n",
       "    }\n",
       "\n",
       "    .dataframe tbody tr th {\n",
       "        vertical-align: top;\n",
       "    }\n",
       "\n",
       "    .dataframe thead th {\n",
       "        text-align: right;\n",
       "    }\n",
       "</style>\n",
       "<table border=\"1\" class=\"dataframe\">\n",
       "  <thead>\n",
       "    <tr style=\"text-align: right;\">\n",
       "      <th></th>\n",
       "      <th>month</th>\n",
       "      <th>value</th>\n",
       "    </tr>\n",
       "  </thead>\n",
       "  <tbody>\n",
       "    <tr>\n",
       "      <th>5</th>\n",
       "      <td>9</td>\n",
       "      <td>227</td>\n",
       "    </tr>\n",
       "  </tbody>\n",
       "</table>\n",
       "</div>"
      ],
      "text/plain": [
       "  month  value\n",
       "5     9    227"
      ]
     },
     "execution_count": 180,
     "metadata": {},
     "output_type": "execute_result"
    }
   ],
   "source": [
    "dic = counts(data.month)\n",
    "keys = []\n",
    "vals = []\n",
    "for key, values in dic.items():\n",
    "    keys.append(key)\n",
    "    vals.append(values)\n",
    "months = pd.DataFrame({'month': keys, 'value' : vals})\n",
    "monmax = months[months.value == months.value.max()]\n",
    "monmax"
   ]
  },
  {
   "cell_type": "code",
   "execution_count": 181,
   "metadata": {},
   "outputs": [
    {
     "data": {
      "text/plain": [
       "5    9\n",
       "Name: month, dtype: object"
      ]
     },
     "execution_count": 181,
     "metadata": {},
     "output_type": "execute_result"
    }
   ],
   "source": [
    "answers['21'] =monmax.month\n",
    "answers['21']"
   ]
  },
  {
   "cell_type": "markdown",
   "metadata": {
    "colab_type": "text",
    "id": "uAJsZ_NeVp_7"
   },
   "source": [
    "# 22. Сколько суммарно вышло фильмов летом? (за июнь, июль, август)"
   ]
  },
  {
   "cell_type": "code",
   "execution_count": 194,
   "metadata": {
    "colab": {},
    "colab_type": "code",
    "id": "Aa-hEREoVp_8"
   },
   "outputs": [],
   "source": [
    "data['month'] =data['month'].astype(int)\n",
    "datasmmr = data[(data.month > 5) & (data.month < 9 ) ]\n"
   ]
  },
  {
   "cell_type": "code",
   "execution_count": 196,
   "metadata": {},
   "outputs": [
    {
     "data": {
      "text/plain": [
       "450"
      ]
     },
     "execution_count": 196,
     "metadata": {},
     "output_type": "execute_result"
    }
   ],
   "source": [
    "answers['22'] =len(datasmmr)\n",
    "answers['22']"
   ]
  },
  {
   "cell_type": "markdown",
   "metadata": {
    "colab_type": "text",
    "id": "G94ppOY1VqAA"
   },
   "source": [
    "# 23. Для какого режиссера зима – самое продуктивное время года? "
   ]
  },
  {
   "cell_type": "code",
   "execution_count": 200,
   "metadata": {
    "colab": {},
    "colab_type": "code",
    "id": "RhNTsamuVqAB"
   },
   "outputs": [
    {
     "data": {
      "text/html": [
       "<div>\n",
       "<style scoped>\n",
       "    .dataframe tbody tr th:only-of-type {\n",
       "        vertical-align: middle;\n",
       "    }\n",
       "\n",
       "    .dataframe tbody tr th {\n",
       "        vertical-align: top;\n",
       "    }\n",
       "\n",
       "    .dataframe thead th {\n",
       "        text-align: right;\n",
       "    }\n",
       "</style>\n",
       "<table border=\"1\" class=\"dataframe\">\n",
       "  <thead>\n",
       "    <tr style=\"text-align: right;\">\n",
       "      <th></th>\n",
       "      <th>director</th>\n",
       "      <th>value</th>\n",
       "    </tr>\n",
       "  </thead>\n",
       "  <tbody>\n",
       "    <tr>\n",
       "      <th>23</th>\n",
       "      <td>Peter Jackson</td>\n",
       "      <td>7</td>\n",
       "    </tr>\n",
       "  </tbody>\n",
       "</table>\n",
       "</div>"
      ],
      "text/plain": [
       "         director  value\n",
       "23  Peter Jackson      7"
      ]
     },
     "execution_count": 200,
     "metadata": {},
     "output_type": "execute_result"
    }
   ],
   "source": [
    "datawntr = data[(data.month > 11) | (data.month < 3 ) ]\n",
    "diction = counts(datawntr.director)\n",
    "\n",
    "keys = []\n",
    "vals = []\n",
    "for key, values in diction.items():\n",
    "    keys.append(key)\n",
    "    vals.append(values)\n",
    "dirs = pd.DataFrame({'director': keys, 'value' : vals})\n",
    "dirmax = dirs[dirs.value == dirs.value.max()]"
   ]
  },
  {
   "cell_type": "code",
   "execution_count": 214,
   "metadata": {},
   "outputs": [
    {
     "data": {
      "text/plain": [
       "23    Peter Jackson\n",
       "Name: director, dtype: object"
      ]
     },
     "execution_count": 214,
     "metadata": {},
     "output_type": "execute_result"
    }
   ],
   "source": [
    "answers['23'] =dirmax.director\n",
    "answers['23']"
   ]
  },
  {
   "cell_type": "code",
   "execution_count": null,
   "metadata": {},
   "outputs": [],
   "source": []
  },
  {
   "cell_type": "markdown",
   "metadata": {
    "colab_type": "text",
    "id": "RBo0JVjVVqAF"
   },
   "source": [
    "# 24. Какая студия дает самые длинные названия своим фильмам по количеству символов?"
   ]
  },
  {
   "cell_type": "code",
   "execution_count": 205,
   "metadata": {
    "colab": {},
    "colab_type": "code",
    "id": "QRGS8L0iVqAG"
   },
   "outputs": [
    {
     "data": {
      "text/html": [
       "<div>\n",
       "<style scoped>\n",
       "    .dataframe tbody tr th:only-of-type {\n",
       "        vertical-align: middle;\n",
       "    }\n",
       "\n",
       "    .dataframe tbody tr th {\n",
       "        vertical-align: top;\n",
       "    }\n",
       "\n",
       "    .dataframe thead th {\n",
       "        text-align: right;\n",
       "    }\n",
       "</style>\n",
       "<table border=\"1\" class=\"dataframe\">\n",
       "  <thead>\n",
       "    <tr style=\"text-align: right;\">\n",
       "      <th></th>\n",
       "      <th>imdb_id</th>\n",
       "      <th>budget</th>\n",
       "      <th>revenue</th>\n",
       "      <th>original_title</th>\n",
       "      <th>cast</th>\n",
       "      <th>director</th>\n",
       "      <th>tagline</th>\n",
       "      <th>overview</th>\n",
       "      <th>runtime</th>\n",
       "      <th>genres</th>\n",
       "      <th>production_companies</th>\n",
       "      <th>release_date</th>\n",
       "      <th>vote_average</th>\n",
       "      <th>release_year</th>\n",
       "      <th>profit</th>\n",
       "      <th>month</th>\n",
       "      <th>namelenght</th>\n",
       "    </tr>\n",
       "  </thead>\n",
       "  <tbody>\n",
       "    <tr>\n",
       "      <th>1484</th>\n",
       "      <td>tt0758794</td>\n",
       "      <td>65000000</td>\n",
       "      <td>43545364</td>\n",
       "      <td>We Are Marshall</td>\n",
       "      <td>Matthew McConaughey|Matthew Fox|Anthony Mackie...</td>\n",
       "      <td>McG</td>\n",
       "      <td>From the ashes we rose.</td>\n",
       "      <td>When a plane crash claims the lives of members...</td>\n",
       "      <td>124</td>\n",
       "      <td>Drama</td>\n",
       "      <td>Legendary Pictures|Thunder Road Pictures|Wonde...</td>\n",
       "      <td>12/12/2006</td>\n",
       "      <td>6.5</td>\n",
       "      <td>2006</td>\n",
       "      <td>-21454636</td>\n",
       "      <td>12</td>\n",
       "      <td>15</td>\n",
       "    </tr>\n",
       "  </tbody>\n",
       "</table>\n",
       "</div>"
      ],
      "text/plain": [
       "        imdb_id    budget   revenue   original_title  \\\n",
       "1484  tt0758794  65000000  43545364  We Are Marshall   \n",
       "\n",
       "                                                   cast director  \\\n",
       "1484  Matthew McConaughey|Matthew Fox|Anthony Mackie...      McG   \n",
       "\n",
       "                      tagline  \\\n",
       "1484  From the ashes we rose.   \n",
       "\n",
       "                                               overview  runtime genres  \\\n",
       "1484  When a plane crash claims the lives of members...      124  Drama   \n",
       "\n",
       "                                   production_companies release_date  \\\n",
       "1484  Legendary Pictures|Thunder Road Pictures|Wonde...   12/12/2006   \n",
       "\n",
       "      vote_average  release_year    profit  month  namelenght  \n",
       "1484           6.5          2006 -21454636     12          15  "
      ]
     },
     "execution_count": 205,
     "metadata": {},
     "output_type": "execute_result"
    }
   ],
   "source": [
    "data.sample(1)"
   ]
  },
  {
   "cell_type": "code",
   "execution_count": 209,
   "metadata": {},
   "outputs": [],
   "source": [
    "a = df_el1_el2(data, 'production_companies', 'namelenght')"
   ]
  },
  {
   "cell_type": "code",
   "execution_count": 215,
   "metadata": {},
   "outputs": [
    {
     "data": {
      "text/plain": [
       "1505    Four By Two Productions\n",
       "Name: companie, dtype: object"
      ]
     },
     "execution_count": 215,
     "metadata": {},
     "output_type": "execute_result"
    }
   ],
   "source": [
    "keys = []\n",
    "vals = []\n",
    "for key, values in a.items():\n",
    "    keys.append(key)\n",
    "    vals.append(values)\n",
    "meanl = pd.DataFrame({'companie': keys, 'lenght' : vals})\n",
    "meanlmax = meanl[meanl.lenght == meanl.lenght.max()]\n",
    "answers['24'] =meanlmax.companie\n",
    "answers['24']"
   ]
  },
  {
   "cell_type": "markdown",
   "metadata": {
    "colab_type": "text",
    "id": "9G0hbvR7VqAK"
   },
   "source": [
    "# 25. Описание фильмов какой студии в среднем самые длинные по количеству слов?"
   ]
  },
  {
   "cell_type": "code",
   "execution_count": 233,
   "metadata": {
    "colab": {},
    "colab_type": "code",
    "id": "Ge2GsLNxVqAK"
   },
   "outputs": [],
   "source": [
    "# количество эл-ов в s2 для каждого эл-та s1 в df\n",
    "\n",
    "a = count_s2_numbers(data, 'production_companies', 'overview')"
   ]
  },
  {
   "cell_type": "code",
   "execution_count": 234,
   "metadata": {},
   "outputs": [
    {
     "data": {
      "text/plain": [
       "950    Midnight Picture Show\n",
       "Name: companie, dtype: object"
      ]
     },
     "execution_count": 234,
     "metadata": {},
     "output_type": "execute_result"
    }
   ],
   "source": [
    "keys = []\n",
    "vals = []\n",
    "for key, values in a.items():\n",
    "    keys.append(key)\n",
    "    vals.append(values)\n",
    "meanl = pd.DataFrame({'companie': keys, 'lenght' : vals})\n",
    "meanlmax = meanl[meanl.lenght == meanl.lenght.max()]\n",
    "answers['25'] =meanlmax.companie\n",
    "answers['25']"
   ]
  },
  {
   "cell_type": "markdown",
   "metadata": {
    "colab_type": "text",
    "id": "FJ1AFt90VqAP"
   },
   "source": [
    "# 26. Какие фильмы входят в 1 процент лучших по рейтингу? \n",
    "по vote_average"
   ]
  },
  {
   "cell_type": "code",
   "execution_count": 270,
   "metadata": {
    "colab": {},
    "colab_type": "code",
    "id": "8qmJVq4CVqAQ"
   },
   "outputs": [
    {
     "data": {
      "text/plain": [
       "['Inside Out',\n",
       " 'The Dark Knight',\n",
       " '12 Years a Slave',\n",
       " 'The Lord of the Rings: The Return of the King']"
      ]
     },
     "execution_count": 270,
     "metadata": {},
     "output_type": "execute_result"
    }
   ],
   "source": [
    "datasv = data.sort_values(by =['vote_average'] , ascending=False ).reset_index()\n",
    "filmlist = ['Inside Out', 'The Dark Knight', '12 Years a Slave',\n",
    "'BloodRayne', 'The Adventures of Rocky & Bullwinkle',\n",
    "'Batman Begins', 'The Lord of the Rings: The Return of the King', 'Upside Down',\n",
    "'300', 'Lucky Number Slevin', 'Kill Bill: Vol. 1',\n",
    "'Upside Down', 'Inside Out', 'Iron Man']\n",
    "shape = datasv.shape\n",
    "perc = (int(shape[0]) // 100) +1\n",
    "\n",
    "datasv = datasv.iloc[0:perc]\n",
    "\n",
    "data2= pd.DataFrame()\n",
    "for i in range(len(filmlist)):\n",
    "    data2= pd.concat([data2,(datasv[datasv.original_title == filmlist[i]])])\n",
    "    \n",
    "answ = []    \n",
    "data2.drop_duplicates(subset='original_title', keep ='first', inplace = True)\n",
    "for i in range(data2.shape[0]):\n",
    "    answ.append(data2.iloc[i].original_title)\n",
    "    \n",
    "answers['26'] =answ\n",
    "answers['26']"
   ]
  },
  {
   "cell_type": "markdown",
   "metadata": {
    "colab_type": "text",
    "id": "MdXsUXbCVqAV"
   },
   "source": [
    "# 27. Какие актеры чаще всего снимаются в одном фильме вместе?\n"
   ]
  },
  {
   "cell_type": "markdown",
   "metadata": {
    "colab_type": "text",
    "id": "4ymnxEVoVqAW"
   },
   "source": [
    "ВАРИАНТ 2"
   ]
  },
  {
   "cell_type": "code",
   "execution_count": 343,
   "metadata": {},
   "outputs": [],
   "source": [
    "a = dic_with_pairs(data, 'cast')"
   ]
  },
  {
   "cell_type": "code",
   "execution_count": 346,
   "metadata": {},
   "outputs": [
    {
     "data": {
      "text/plain": [
       "'Daniel RadcliffeRupert Grint'"
      ]
     },
     "execution_count": 346,
     "metadata": {},
     "output_type": "execute_result"
    }
   ],
   "source": [
    "answers['27'] =a\n",
    "answers['27']"
   ]
  },
  {
   "cell_type": "markdown",
   "metadata": {
    "colab_type": "text",
    "id": "U0nONFnGVqAX"
   },
   "source": [
    "# Submission"
   ]
  },
  {
   "cell_type": "code",
   "execution_count": 347,
   "metadata": {
    "colab": {},
    "colab_type": "code",
    "id": "IfcaRO9-VqAX",
    "outputId": "0f132912-32bb-4196-c98c-abfbc4ad5a5f"
   },
   "outputs": [
    {
     "data": {
      "text/plain": [
       "{'1': 723    Pirates of the Caribbean: On Stranger Tides\n",
       " Name: original_title, dtype: object,\n",
       " '2': 1157    Gods and Generals\n",
       " Name: original_title, dtype: object,\n",
       " '3': 768    Winnie the Pooh\n",
       " Name: original_title, dtype: object,\n",
       " '4': 109.6585494970884,\n",
       " '5': 107,\n",
       " '6': 239    Avatar\n",
       " Name: original_title, dtype: object,\n",
       " '7': 1245    The Lone Ranger\n",
       " Name: original_title, dtype: object,\n",
       " '8': 1478,\n",
       " '9': 599    The Dark Knight\n",
       " Name: original_title, dtype: object,\n",
       " '10': 1245    The Lone Ranger\n",
       " Name: original_title, dtype: object,\n",
       " '11': 7    Drama\n",
       " Name: genres, dtype: object,\n",
       " '12': 7    Drama\n",
       " Name: genres, dtype: object,\n",
       " '13': 122    Peter Jackson\n",
       " Name: director, dtype: object,\n",
       " '14': 123    Robert Rodriguez\n",
       " Name: director, dtype: object,\n",
       " '15': 3    Chris Hemsworth\n",
       " Name: actor, dtype: object,\n",
       " '16': 34    Matt Damon\n",
       " Name: actor, dtype: object,\n",
       " '17': 1    Action\n",
       " Name: genres, dtype: object,\n",
       " '18': 925    K-19: The Widowmaker\n",
       " Name: original_title, dtype: object,\n",
       " '19': 0    2015\n",
       " Name: year, dtype: int64,\n",
       " '20': 1    2014\n",
       " Name: year, dtype: int64,\n",
       " '21': 5    9\n",
       " Name: month, dtype: object,\n",
       " '22': 450,\n",
       " '23': 23    Peter Jackson\n",
       " Name: director, dtype: object,\n",
       " '24': 1505    Four By Two Productions\n",
       " Name: companie, dtype: object,\n",
       " '25': 950    Midnight Picture Show\n",
       " Name: companie, dtype: object,\n",
       " '26': ['Inside Out',\n",
       "  'The Dark Knight',\n",
       "  '12 Years a Slave',\n",
       "  'The Lord of the Rings: The Return of the King'],\n",
       " '27': 'Daniel RadcliffeRupert Grint'}"
      ]
     },
     "execution_count": 347,
     "metadata": {},
     "output_type": "execute_result"
    }
   ],
   "source": [
    "# в конце можно посмотреть свои ответы к каждому вопросу\n",
    "answers"
   ]
  },
  {
   "cell_type": "code",
   "execution_count": null,
   "metadata": {},
   "outputs": [],
   "source": []
  },
  {
   "cell_type": "code",
   "execution_count": 348,
   "metadata": {
    "colab": {},
    "colab_type": "code",
    "id": "SiRmHPl8VqAd"
   },
   "outputs": [
    {
     "data": {
      "text/plain": [
       "27"
      ]
     },
     "execution_count": 348,
     "metadata": {},
     "output_type": "execute_result"
    }
   ],
   "source": [
    "# и убедиться что ни чего не пропустил)\n",
    "len(answers)"
   ]
  }
 ],
 "metadata": {
  "colab": {
   "name": "Copy of [SF-DST] Movies IMBD v4.1 TEMPLATE.ipynb",
   "provenance": []
  },
  "kernelspec": {
   "display_name": "Python 3",
   "language": "python",
   "name": "python3"
  },
  "language_info": {
   "codemirror_mode": {
    "name": "ipython",
    "version": 3
   },
   "file_extension": ".py",
   "mimetype": "text/x-python",
   "name": "python",
   "nbconvert_exporter": "python",
   "pygments_lexer": "ipython3",
   "version": "3.8.3"
  }
 },
 "nbformat": 4,
 "nbformat_minor": 1
}
